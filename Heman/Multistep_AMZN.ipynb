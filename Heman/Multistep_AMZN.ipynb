{
 "cells": [
  {
   "cell_type": "code",
   "execution_count": 46,
   "id": "bb086727",
   "metadata": {},
   "outputs": [],
   "source": [
    "import pandas_datareader as pdr\n",
    "import numpy as np\n",
    "import pandas as pd\n",
    "import matplotlib.pyplot as plt\n",
    "import datetime as dt\n",
    "from keras.models import Sequential\n",
    "from keras.layers import Dense, LSTM\n",
    "key = '5e6bbd0e3991e4888a436338a938fd961cd835ca'"
   ]
  },
  {
   "cell_type": "code",
   "execution_count": 47,
   "id": "77d9ed0c",
   "metadata": {},
   "outputs": [
    {
     "data": {
      "text/html": [
       "<div>\n",
       "<style scoped>\n",
       "    .dataframe tbody tr th:only-of-type {\n",
       "        vertical-align: middle;\n",
       "    }\n",
       "\n",
       "    .dataframe tbody tr th {\n",
       "        vertical-align: top;\n",
       "    }\n",
       "\n",
       "    .dataframe thead th {\n",
       "        text-align: right;\n",
       "    }\n",
       "</style>\n",
       "<table border=\"1\" class=\"dataframe\">\n",
       "  <thead>\n",
       "    <tr style=\"text-align: right;\">\n",
       "      <th></th>\n",
       "      <th></th>\n",
       "      <th>close</th>\n",
       "      <th>high</th>\n",
       "      <th>low</th>\n",
       "      <th>open</th>\n",
       "      <th>volume</th>\n",
       "      <th>adjClose</th>\n",
       "      <th>adjHigh</th>\n",
       "      <th>adjLow</th>\n",
       "      <th>adjOpen</th>\n",
       "      <th>adjVolume</th>\n",
       "      <th>divCash</th>\n",
       "      <th>splitFactor</th>\n",
       "    </tr>\n",
       "    <tr>\n",
       "      <th>symbol</th>\n",
       "      <th>date</th>\n",
       "      <th></th>\n",
       "      <th></th>\n",
       "      <th></th>\n",
       "      <th></th>\n",
       "      <th></th>\n",
       "      <th></th>\n",
       "      <th></th>\n",
       "      <th></th>\n",
       "      <th></th>\n",
       "      <th></th>\n",
       "      <th></th>\n",
       "      <th></th>\n",
       "    </tr>\n",
       "  </thead>\n",
       "  <tbody>\n",
       "    <tr>\n",
       "      <th rowspan=\"5\" valign=\"top\">AMZN</th>\n",
       "      <th>2017-04-03 00:00:00+00:00</th>\n",
       "      <td>891.51</td>\n",
       "      <td>893.4900</td>\n",
       "      <td>885.4200</td>\n",
       "      <td>888.00</td>\n",
       "      <td>3422328</td>\n",
       "      <td>891.51</td>\n",
       "      <td>893.4900</td>\n",
       "      <td>885.4200</td>\n",
       "      <td>888.00</td>\n",
       "      <td>3422328</td>\n",
       "      <td>0.0</td>\n",
       "      <td>1.0</td>\n",
       "    </tr>\n",
       "    <tr>\n",
       "      <th>2017-04-04 00:00:00+00:00</th>\n",
       "      <td>906.83</td>\n",
       "      <td>908.5384</td>\n",
       "      <td>890.2800</td>\n",
       "      <td>891.50</td>\n",
       "      <td>4984656</td>\n",
       "      <td>906.83</td>\n",
       "      <td>908.5384</td>\n",
       "      <td>890.2800</td>\n",
       "      <td>891.50</td>\n",
       "      <td>4984656</td>\n",
       "      <td>0.0</td>\n",
       "      <td>1.0</td>\n",
       "    </tr>\n",
       "    <tr>\n",
       "      <th>2017-04-05 00:00:00+00:00</th>\n",
       "      <td>909.28</td>\n",
       "      <td>923.7200</td>\n",
       "      <td>905.6200</td>\n",
       "      <td>910.82</td>\n",
       "      <td>7508370</td>\n",
       "      <td>909.28</td>\n",
       "      <td>923.7200</td>\n",
       "      <td>905.6200</td>\n",
       "      <td>910.82</td>\n",
       "      <td>7508370</td>\n",
       "      <td>0.0</td>\n",
       "      <td>1.0</td>\n",
       "    </tr>\n",
       "    <tr>\n",
       "      <th>2017-04-06 00:00:00+00:00</th>\n",
       "      <td>898.28</td>\n",
       "      <td>917.1899</td>\n",
       "      <td>894.4927</td>\n",
       "      <td>913.80</td>\n",
       "      <td>6344065</td>\n",
       "      <td>898.28</td>\n",
       "      <td>917.1899</td>\n",
       "      <td>894.4927</td>\n",
       "      <td>913.80</td>\n",
       "      <td>6344065</td>\n",
       "      <td>0.0</td>\n",
       "      <td>1.0</td>\n",
       "    </tr>\n",
       "    <tr>\n",
       "      <th>2017-04-07 00:00:00+00:00</th>\n",
       "      <td>894.88</td>\n",
       "      <td>900.0900</td>\n",
       "      <td>889.3100</td>\n",
       "      <td>899.65</td>\n",
       "      <td>3707367</td>\n",
       "      <td>894.88</td>\n",
       "      <td>900.0900</td>\n",
       "      <td>889.3100</td>\n",
       "      <td>899.65</td>\n",
       "      <td>3707367</td>\n",
       "      <td>0.0</td>\n",
       "      <td>1.0</td>\n",
       "    </tr>\n",
       "  </tbody>\n",
       "</table>\n",
       "</div>"
      ],
      "text/plain": [
       "                                   close      high       low    open   volume  \\\n",
       "symbol date                                                                     \n",
       "AMZN   2017-04-03 00:00:00+00:00  891.51  893.4900  885.4200  888.00  3422328   \n",
       "       2017-04-04 00:00:00+00:00  906.83  908.5384  890.2800  891.50  4984656   \n",
       "       2017-04-05 00:00:00+00:00  909.28  923.7200  905.6200  910.82  7508370   \n",
       "       2017-04-06 00:00:00+00:00  898.28  917.1899  894.4927  913.80  6344065   \n",
       "       2017-04-07 00:00:00+00:00  894.88  900.0900  889.3100  899.65  3707367   \n",
       "\n",
       "                                  adjClose   adjHigh    adjLow  adjOpen  \\\n",
       "symbol date                                                               \n",
       "AMZN   2017-04-03 00:00:00+00:00    891.51  893.4900  885.4200   888.00   \n",
       "       2017-04-04 00:00:00+00:00    906.83  908.5384  890.2800   891.50   \n",
       "       2017-04-05 00:00:00+00:00    909.28  923.7200  905.6200   910.82   \n",
       "       2017-04-06 00:00:00+00:00    898.28  917.1899  894.4927   913.80   \n",
       "       2017-04-07 00:00:00+00:00    894.88  900.0900  889.3100   899.65   \n",
       "\n",
       "                                  adjVolume  divCash  splitFactor  \n",
       "symbol date                                                        \n",
       "AMZN   2017-04-03 00:00:00+00:00    3422328      0.0          1.0  \n",
       "       2017-04-04 00:00:00+00:00    4984656      0.0          1.0  \n",
       "       2017-04-05 00:00:00+00:00    7508370      0.0          1.0  \n",
       "       2017-04-06 00:00:00+00:00    6344065      0.0          1.0  \n",
       "       2017-04-07 00:00:00+00:00    3707367      0.0          1.0  "
      ]
     },
     "execution_count": 47,
     "metadata": {},
     "output_type": "execute_result"
    }
   ],
   "source": [
    "df = pdr.get_data_tiingo('AMZN',api_key=key)\n",
    "df.head()"
   ]
  },
  {
   "cell_type": "code",
   "execution_count": 87,
   "id": "e6e0e0c8",
   "metadata": {},
   "outputs": [
    {
     "data": {
      "text/html": [
       "<div>\n",
       "<style scoped>\n",
       "    .dataframe tbody tr th:only-of-type {\n",
       "        vertical-align: middle;\n",
       "    }\n",
       "\n",
       "    .dataframe tbody tr th {\n",
       "        vertical-align: top;\n",
       "    }\n",
       "\n",
       "    .dataframe thead th {\n",
       "        text-align: right;\n",
       "    }\n",
       "</style>\n",
       "<table border=\"1\" class=\"dataframe\">\n",
       "  <thead>\n",
       "    <tr style=\"text-align: right;\">\n",
       "      <th></th>\n",
       "      <th>close</th>\n",
       "      <th>high</th>\n",
       "      <th>low</th>\n",
       "      <th>open</th>\n",
       "      <th>volume</th>\n",
       "      <th>adjClose</th>\n",
       "    </tr>\n",
       "    <tr>\n",
       "      <th>date</th>\n",
       "      <th></th>\n",
       "      <th></th>\n",
       "      <th></th>\n",
       "      <th></th>\n",
       "      <th></th>\n",
       "      <th></th>\n",
       "    </tr>\n",
       "  </thead>\n",
       "  <tbody>\n",
       "    <tr>\n",
       "      <th>2017-02-10 00:00:00+00:00</th>\n",
       "      <td>827.46</td>\n",
       "      <td>828.0000</td>\n",
       "      <td>822.8500</td>\n",
       "      <td>823.82</td>\n",
       "      <td>2429609</td>\n",
       "      <td>827.46</td>\n",
       "    </tr>\n",
       "    <tr>\n",
       "      <th>2017-02-13 00:00:00+00:00</th>\n",
       "      <td>836.53</td>\n",
       "      <td>842.9999</td>\n",
       "      <td>828.5500</td>\n",
       "      <td>831.62</td>\n",
       "      <td>4172618</td>\n",
       "      <td>836.53</td>\n",
       "    </tr>\n",
       "    <tr>\n",
       "      <th>2017-02-14 00:00:00+00:00</th>\n",
       "      <td>836.39</td>\n",
       "      <td>838.3100</td>\n",
       "      <td>831.4522</td>\n",
       "      <td>837.00</td>\n",
       "      <td>2792442</td>\n",
       "      <td>836.39</td>\n",
       "    </tr>\n",
       "    <tr>\n",
       "      <th>2017-02-15 00:00:00+00:00</th>\n",
       "      <td>842.70</td>\n",
       "      <td>842.8100</td>\n",
       "      <td>832.8200</td>\n",
       "      <td>834.00</td>\n",
       "      <td>2968853</td>\n",
       "      <td>842.70</td>\n",
       "    </tr>\n",
       "    <tr>\n",
       "      <th>2017-02-16 00:00:00+00:00</th>\n",
       "      <td>844.14</td>\n",
       "      <td>845.0000</td>\n",
       "      <td>839.3750</td>\n",
       "      <td>841.84</td>\n",
       "      <td>2714667</td>\n",
       "      <td>844.14</td>\n",
       "    </tr>\n",
       "  </tbody>\n",
       "</table>\n",
       "</div>"
      ],
      "text/plain": [
       "                            close      high       low    open   volume  \\\n",
       "date                                                                     \n",
       "2017-02-10 00:00:00+00:00  827.46  828.0000  822.8500  823.82  2429609   \n",
       "2017-02-13 00:00:00+00:00  836.53  842.9999  828.5500  831.62  4172618   \n",
       "2017-02-14 00:00:00+00:00  836.39  838.3100  831.4522  837.00  2792442   \n",
       "2017-02-15 00:00:00+00:00  842.70  842.8100  832.8200  834.00  2968853   \n",
       "2017-02-16 00:00:00+00:00  844.14  845.0000  839.3750  841.84  2714667   \n",
       "\n",
       "                           adjClose  \n",
       "date                                 \n",
       "2017-02-10 00:00:00+00:00    827.46  \n",
       "2017-02-13 00:00:00+00:00    836.53  \n",
       "2017-02-14 00:00:00+00:00    836.39  \n",
       "2017-02-15 00:00:00+00:00    842.70  \n",
       "2017-02-16 00:00:00+00:00    844.14  "
      ]
     },
     "execution_count": 87,
     "metadata": {},
     "output_type": "execute_result"
    }
   ],
   "source": [
    "df=pd.read_csv('AMZN.csv', usecols = ['date','close','high','low','open','volume','adjClose'], parse_dates=['date'], index_col=0)\n",
    "df.head()"
   ]
  },
  {
   "cell_type": "code",
   "execution_count": 49,
   "id": "37b2c8cc",
   "metadata": {},
   "outputs": [
    {
     "data": {
      "image/png": "[encoded data removed]",
      "text/plain": [
       "<Figure size 432x288 with 1 Axes>"
      ]
     },
     "metadata": {
      "needs_background": "light"
     },
     "output_type": "display_data"
    }
   ],
   "source": [
    "opn = df[['open']]\n",
    "opn.plot()\n",
    "\n",
    "ds = opn.values"
   ]
  },
  {
   "cell_type": "code",
   "execution_count": 50,
   "id": "0920843b",
   "metadata": {},
   "outputs": [],
   "source": [
    "from sklearn.preprocessing import MinMaxScaler\n",
    "#Using MinMaxScaler for normalizing data between 0 & 1\n",
    "normalizer = MinMaxScaler(feature_range=(0,1))\n",
    "ds_scaled = normalizer.fit_transform(np.array(ds).reshape(-1,1))"
   ]
  },
  {
   "cell_type": "code",
   "execution_count": 51,
   "id": "44a4e687",
   "metadata": {},
   "outputs": [
    {
     "data": {
      "text/plain": [
       "(1258, 1258)"
      ]
     },
     "execution_count": 51,
     "metadata": {},
     "output_type": "execute_result"
    }
   ],
   "source": [
    "len(ds_scaled), len(ds)"
   ]
  },
  {
   "cell_type": "code",
   "execution_count": 52,
   "id": "b155bffe",
   "metadata": {},
   "outputs": [],
   "source": [
    "train_size = int(len(ds_scaled)*0.70)\n",
    "test_size = len(ds_scaled) - train_size"
   ]
  },
  {
   "cell_type": "code",
   "execution_count": 53,
   "id": "024cc760",
   "metadata": {},
   "outputs": [],
   "source": [
    "ds_train, ds_test = ds_scaled[0:train_size,:],ds_scaled[train_size:len(ds_scaled),:1]"
   ]
  },
  {
   "cell_type": "code",
   "execution_count": 54,
   "id": "1caf3721",
   "metadata": {},
   "outputs": [],
   "source": [
    "#Converting array to matrix dataset\n",
    "def create_dataset(dataset,time_step):\n",
    "    dataX, dataY = [],[]\n",
    "    for i in range(len(dataset)-time_step-1):\n",
    "        temp = dataset[i:(i+time_step),0]\n",
    "        dataX.append(temp)\n",
    "        dataY.append(dataset[i+time_step,0])\n",
    "    return np.array(dataX), np.array(dataY)"
   ]
  },
  {
   "cell_type": "code",
   "execution_count": 55,
   "id": "0b326766",
   "metadata": {},
   "outputs": [],
   "source": [
    "time_stamp = 100\n",
    "X_train, y_train = create_dataset(ds_train,time_stamp)\n",
    "X_test, y_test = create_dataset(ds_test,time_stamp)"
   ]
  },
  {
   "cell_type": "code",
   "execution_count": 56,
   "id": "42515461",
   "metadata": {},
   "outputs": [],
   "source": [
    "#Reshaping data for our LSTM fit\n",
    "X_train = X_train.reshape(X_train.shape[0],X_train.shape[1] , 1)\n",
    "X_test = X_test.reshape(X_test.shape[0],X_test.shape[1] , 1)"
   ]
  },
  {
   "cell_type": "code",
   "execution_count": 57,
   "id": "b58c0900",
   "metadata": {},
   "outputs": [
    {
     "name": "stdout",
     "output_type": "stream",
     "text": [
      "Model: \"sequential\"\n",
      "_________________________________________________________________\n",
      " Layer (type)                Output Shape              Param #   \n",
      "=================================================================\n",
      " lstm (LSTM)                 (None, 100, 50)           10400     \n",
      "                                                                 \n",
      " lstm_1 (LSTM)               (None, 100, 50)           20200     \n",
      "                                                                 \n",
      " lstm_2 (LSTM)               (None, 50)                20200     \n",
      "                                                                 \n",
      " dense (Dense)               (None, 1)                 51        \n",
      "                                                                 \n",
      "=================================================================\n",
      "Total params: 50,851\n",
      "Trainable params: 50,851\n",
      "Non-trainable params: 0\n",
      "_________________________________________________________________\n"
     ]
    }
   ],
   "source": [
    "model = Sequential()\n",
    "model.add(LSTM(units=50,return_sequences=True,input_shape=(X_train.shape[1],1)))\n",
    "model.add(LSTM(units=50,return_sequences=True))\n",
    "model.add(LSTM(units=50))\n",
    "model.add(Dense(units=1,activation='linear'))\n",
    "model.summary()"
   ]
  },
  {
   "cell_type": "code",
   "execution_count": 58,
   "id": "ac45ece0",
   "metadata": {},
   "outputs": [
    {
     "name": "stdout",
     "output_type": "stream",
     "text": [
      "Epoch 1/100\n",
      "13/13 [==============================] - 6s 193ms/step - loss: 0.0390 - val_loss: 0.0892\n",
      "Epoch 2/100\n",
      "13/13 [==============================] - 1s 112ms/step - loss: 0.0075 - val_loss: 0.0033\n",
      "Epoch 3/100\n",
      "13/13 [==============================] - 1s 106ms/step - loss: 0.0034 - val_loss: 0.0025\n",
      "Epoch 4/100\n",
      "13/13 [==============================] - 1s 111ms/step - loss: 0.0014 - val_loss: 0.0133\n",
      "Epoch 5/100\n",
      "13/13 [==============================] - 1s 108ms/step - loss: 0.0013 - val_loss: 0.0126\n",
      "Epoch 6/100\n",
      "13/13 [==============================] - 1s 108ms/step - loss: 0.0011 - val_loss: 0.0071\n",
      "Epoch 7/100\n",
      "13/13 [==============================] - 1s 107ms/step - loss: 0.0011 - val_loss: 0.0059\n",
      "Epoch 8/100\n",
      "13/13 [==============================] - 1s 113ms/step - loss: 0.0011 - val_loss: 0.0067\n",
      "Epoch 9/100\n",
      "13/13 [==============================] - 1s 107ms/step - loss: 0.0011 - val_loss: 0.0044\n",
      "Epoch 10/100\n",
      "13/13 [==============================] - 1s 107ms/step - loss: 0.0012 - val_loss: 0.0031\n",
      "Epoch 11/100\n",
      "13/13 [==============================] - 1s 107ms/step - loss: 0.0011 - val_loss: 0.0048\n",
      "Epoch 12/100\n",
      "13/13 [==============================] - 1s 107ms/step - loss: 0.0010 - val_loss: 0.0054\n",
      "Epoch 13/100\n",
      "13/13 [==============================] - 1s 107ms/step - loss: 0.0010 - val_loss: 0.0074\n",
      "Epoch 14/100\n",
      "13/13 [==============================] - 1s 108ms/step - loss: 0.0010 - val_loss: 0.0085\n",
      "Epoch 15/100\n",
      "13/13 [==============================] - 1s 107ms/step - loss: 9.8829e-04 - val_loss: 0.0043\n",
      "Epoch 16/100\n",
      "13/13 [==============================] - 1s 105ms/step - loss: 9.7460e-04 - val_loss: 0.0072\n",
      "Epoch 17/100\n",
      "13/13 [==============================] - 1s 107ms/step - loss: 9.6680e-04 - val_loss: 0.0031\n",
      "Epoch 18/100\n",
      "13/13 [==============================] - 1s 108ms/step - loss: 9.6186e-04 - val_loss: 0.0020\n",
      "Epoch 19/100\n",
      "13/13 [==============================] - 2s 138ms/step - loss: 9.5237e-04 - val_loss: 0.0027\n",
      "Epoch 20/100\n",
      "13/13 [==============================] - 1s 110ms/step - loss: 9.8251e-04 - val_loss: 0.0068\n",
      "Epoch 21/100\n",
      "13/13 [==============================] - 1s 113ms/step - loss: 9.8361e-04 - val_loss: 0.0021\n",
      "Epoch 22/100\n",
      "13/13 [==============================] - 1s 116ms/step - loss: 8.8892e-04 - val_loss: 0.0052\n",
      "Epoch 23/100\n",
      "13/13 [==============================] - 2s 129ms/step - loss: 8.4954e-04 - val_loss: 0.0029\n",
      "Epoch 24/100\n",
      "13/13 [==============================] - 2s 123ms/step - loss: 8.1235e-04 - val_loss: 0.0027\n",
      "Epoch 25/100\n",
      "13/13 [==============================] - 2s 120ms/step - loss: 8.0425e-04 - val_loss: 0.0033\n",
      "Epoch 26/100\n",
      "13/13 [==============================] - 1s 109ms/step - loss: 8.2239e-04 - val_loss: 0.0031\n",
      "Epoch 27/100\n",
      "13/13 [==============================] - 1s 105ms/step - loss: 7.8790e-04 - val_loss: 0.0057\n",
      "Epoch 28/100\n",
      "13/13 [==============================] - 2s 118ms/step - loss: 9.3575e-04 - val_loss: 0.0016\n",
      "Epoch 29/100\n",
      "13/13 [==============================] - 1s 106ms/step - loss: 8.3323e-04 - val_loss: 0.0026\n",
      "Epoch 30/100\n",
      "13/13 [==============================] - 1s 105ms/step - loss: 7.5981e-04 - val_loss: 0.0034\n",
      "Epoch 31/100\n",
      "13/13 [==============================] - 1s 103ms/step - loss: 7.7268e-04 - val_loss: 0.0017\n",
      "Epoch 32/100\n",
      "13/13 [==============================] - 1s 102ms/step - loss: 7.3167e-04 - val_loss: 0.0064\n",
      "Epoch 33/100\n",
      "13/13 [==============================] - 1s 110ms/step - loss: 8.4467e-04 - val_loss: 0.0018\n",
      "Epoch 34/100\n",
      "13/13 [==============================] - 1s 105ms/step - loss: 7.9873e-04 - val_loss: 0.0014\n",
      "Epoch 35/100\n",
      "13/13 [==============================] - 1s 109ms/step - loss: 7.7792e-04 - val_loss: 0.0042\n",
      "Epoch 36/100\n",
      "13/13 [==============================] - 1s 102ms/step - loss: 7.1411e-04 - val_loss: 0.0015\n",
      "Epoch 37/100\n",
      "13/13 [==============================] - 1s 109ms/step - loss: 7.0519e-04 - val_loss: 0.0032\n",
      "Epoch 38/100\n",
      "13/13 [==============================] - 1s 108ms/step - loss: 8.8005e-04 - val_loss: 0.0016\n",
      "Epoch 39/100\n",
      "13/13 [==============================] - 1s 101ms/step - loss: 8.2198e-04 - val_loss: 0.0073\n",
      "Epoch 40/100\n",
      "13/13 [==============================] - 1s 108ms/step - loss: 7.8682e-04 - val_loss: 0.0015\n",
      "Epoch 41/100\n",
      "13/13 [==============================] - 1s 102ms/step - loss: 6.4543e-04 - val_loss: 0.0029\n",
      "Epoch 42/100\n",
      "13/13 [==============================] - 1s 112ms/step - loss: 6.4598e-04 - val_loss: 0.0022\n",
      "Epoch 43/100\n",
      "13/13 [==============================] - 1s 109ms/step - loss: 6.3286e-04 - val_loss: 0.0024\n",
      "Epoch 44/100\n",
      "13/13 [==============================] - 1s 102ms/step - loss: 7.0562e-04 - val_loss: 0.0020\n",
      "Epoch 45/100\n",
      "13/13 [==============================] - 1s 106ms/step - loss: 6.1271e-04 - val_loss: 0.0061\n",
      "Epoch 46/100\n",
      "13/13 [==============================] - 1s 108ms/step - loss: 6.8771e-04 - val_loss: 0.0014\n",
      "Epoch 47/100\n",
      "13/13 [==============================] - 1s 110ms/step - loss: 6.6394e-04 - val_loss: 0.0034\n",
      "Epoch 48/100\n",
      "13/13 [==============================] - 1s 107ms/step - loss: 6.1374e-04 - val_loss: 0.0024\n",
      "Epoch 49/100\n",
      "13/13 [==============================] - 1s 113ms/step - loss: 5.9966e-04 - val_loss: 0.0017\n",
      "Epoch 50/100\n",
      "13/13 [==============================] - 1s 104ms/step - loss: 7.1830e-04 - val_loss: 0.0038\n",
      "Epoch 51/100\n",
      "13/13 [==============================] - 1s 109ms/step - loss: 6.9347e-04 - val_loss: 0.0016\n",
      "Epoch 52/100\n",
      "13/13 [==============================] - 1s 103ms/step - loss: 5.8273e-04 - val_loss: 0.0019\n",
      "Epoch 53/100\n",
      "13/13 [==============================] - 1s 108ms/step - loss: 5.6615e-04 - val_loss: 0.0015\n",
      "Epoch 54/100\n",
      "13/13 [==============================] - 1s 106ms/step - loss: 5.8532e-04 - val_loss: 0.0024\n",
      "Epoch 55/100\n",
      "13/13 [==============================] - 1s 101ms/step - loss: 5.7271e-04 - val_loss: 0.0018\n",
      "Epoch 56/100\n",
      "13/13 [==============================] - 2s 121ms/step - loss: 5.9032e-04 - val_loss: 0.0018\n",
      "Epoch 57/100\n",
      "13/13 [==============================] - 1s 100ms/step - loss: 6.1060e-04 - val_loss: 0.0011\n",
      "Epoch 58/100\n",
      "13/13 [==============================] - 1s 99ms/step - loss: 6.3281e-04 - val_loss: 0.0011\n",
      "Epoch 59/100\n",
      "13/13 [==============================] - 1s 99ms/step - loss: 6.4135e-04 - val_loss: 0.0033\n",
      "Epoch 60/100\n",
      "13/13 [==============================] - 1s 97ms/step - loss: 5.0950e-04 - val_loss: 0.0027\n",
      "Epoch 61/100\n",
      "13/13 [==============================] - 1s 104ms/step - loss: 5.0863e-04 - val_loss: 0.0044\n",
      "Epoch 62/100\n",
      "13/13 [==============================] - 1s 105ms/step - loss: 5.2724e-04 - val_loss: 0.0011\n",
      "Epoch 63/100\n",
      "13/13 [==============================] - 1s 99ms/step - loss: 5.0929e-04 - val_loss: 0.0030\n",
      "Epoch 64/100\n",
      "13/13 [==============================] - 1s 99ms/step - loss: 4.9406e-04 - val_loss: 0.0020\n",
      "Epoch 65/100\n",
      "13/13 [==============================] - 1s 98ms/step - loss: 4.8217e-04 - val_loss: 0.0019\n",
      "Epoch 66/100\n",
      "13/13 [==============================] - 1s 99ms/step - loss: 5.1730e-04 - val_loss: 9.7004e-04\n",
      "Epoch 67/100\n",
      "13/13 [==============================] - 1s 100ms/step - loss: 5.6229e-04 - val_loss: 0.0032\n",
      "Epoch 68/100\n",
      "13/13 [==============================] - 1s 100ms/step - loss: 7.5357e-04 - val_loss: 0.0056\n",
      "Epoch 69/100\n",
      "13/13 [==============================] - 1s 100ms/step - loss: 6.2089e-04 - val_loss: 9.6841e-04\n",
      "Epoch 70/100\n",
      "13/13 [==============================] - 1s 101ms/step - loss: 5.0768e-04 - val_loss: 0.0029\n",
      "Epoch 71/100\n",
      "13/13 [==============================] - 1s 103ms/step - loss: 4.4986e-04 - val_loss: 0.0030\n",
      "Epoch 72/100\n",
      "13/13 [==============================] - 1s 100ms/step - loss: 4.4765e-04 - val_loss: 0.0023\n",
      "Epoch 73/100\n",
      "13/13 [==============================] - 1s 107ms/step - loss: 4.5572e-04 - val_loss: 0.0019\n",
      "Epoch 74/100\n",
      "13/13 [==============================] - 1s 97ms/step - loss: 4.5314e-04 - val_loss: 0.0012\n",
      "Epoch 75/100\n",
      "13/13 [==============================] - 1s 97ms/step - loss: 4.4322e-04 - val_loss: 0.0031\n",
      "Epoch 76/100\n",
      "13/13 [==============================] - 1s 97ms/step - loss: 4.6526e-04 - val_loss: 8.7638e-04\n",
      "Epoch 77/100\n",
      "13/13 [==============================] - 1s 96ms/step - loss: 5.0865e-04 - val_loss: 0.0039\n",
      "Epoch 78/100\n",
      "13/13 [==============================] - 1s 97ms/step - loss: 4.1708e-04 - val_loss: 8.6078e-04\n"
     ]
    },
    {
     "name": "stdout",
     "output_type": "stream",
     "text": [
      "Epoch 79/100\n",
      "13/13 [==============================] - 1s 101ms/step - loss: 4.4678e-04 - val_loss: 0.0021\n",
      "Epoch 80/100\n",
      "13/13 [==============================] - 1s 110ms/step - loss: 3.9731e-04 - val_loss: 0.0017\n",
      "Epoch 81/100\n",
      "13/13 [==============================] - 2s 122ms/step - loss: 3.8777e-04 - val_loss: 0.0016\n",
      "Epoch 82/100\n",
      "13/13 [==============================] - 1s 105ms/step - loss: 3.9759e-04 - val_loss: 9.0961e-04\n",
      "Epoch 83/100\n",
      "13/13 [==============================] - 1s 105ms/step - loss: 4.0431e-04 - val_loss: 0.0032\n",
      "Epoch 84/100\n",
      "13/13 [==============================] - 1s 106ms/step - loss: 3.8770e-04 - val_loss: 0.0022\n",
      "Epoch 85/100\n",
      "13/13 [==============================] - 1s 105ms/step - loss: 3.7031e-04 - val_loss: 0.0019\n",
      "Epoch 86/100\n",
      "13/13 [==============================] - 1s 104ms/step - loss: 3.7691e-04 - val_loss: 0.0012\n",
      "Epoch 87/100\n",
      "13/13 [==============================] - 1s 105ms/step - loss: 3.7819e-04 - val_loss: 7.7003e-04\n",
      "Epoch 88/100\n",
      "13/13 [==============================] - 1s 104ms/step - loss: 4.1068e-04 - val_loss: 0.0062\n",
      "Epoch 89/100\n",
      "13/13 [==============================] - 1s 104ms/step - loss: 4.6653e-04 - val_loss: 0.0074\n",
      "Epoch 90/100\n",
      "13/13 [==============================] - 1s 103ms/step - loss: 4.9905e-04 - val_loss: 8.3534e-04\n",
      "Epoch 91/100\n",
      "13/13 [==============================] - 1s 108ms/step - loss: 3.8257e-04 - val_loss: 8.0850e-04\n",
      "Epoch 92/100\n",
      "13/13 [==============================] - 1s 108ms/step - loss: 3.4811e-04 - val_loss: 0.0025\n",
      "Epoch 93/100\n",
      "13/13 [==============================] - 1s 108ms/step - loss: 3.7025e-04 - val_loss: 0.0015\n",
      "Epoch 94/100\n",
      "13/13 [==============================] - 1s 103ms/step - loss: 3.3985e-04 - val_loss: 6.9932e-04\n",
      "Epoch 95/100\n",
      "13/13 [==============================] - 1s 104ms/step - loss: 4.0335e-04 - val_loss: 7.7304e-04\n",
      "Epoch 96/100\n",
      "13/13 [==============================] - 1s 105ms/step - loss: 3.9743e-04 - val_loss: 0.0025\n",
      "Epoch 97/100\n",
      "13/13 [==============================] - 1s 105ms/step - loss: 3.7098e-04 - val_loss: 0.0031\n",
      "Epoch 98/100\n",
      "13/13 [==============================] - 1s 104ms/step - loss: 3.8563e-04 - val_loss: 0.0013\n",
      "Epoch 99/100\n",
      "13/13 [==============================] - 1s 106ms/step - loss: 3.6870e-04 - val_loss: 6.7245e-04\n",
      "Epoch 100/100\n",
      "13/13 [==============================] - 1s 104ms/step - loss: 3.4167e-04 - val_loss: 0.0011\n"
     ]
    },
    {
     "data": {
      "text/plain": [
       "<keras.callbacks.History at 0x1a88b8b9370>"
      ]
     },
     "execution_count": 58,
     "metadata": {},
     "output_type": "execute_result"
    }
   ],
   "source": [
    "# Training the model\n",
    "model.compile(loss='mean_squared_error',optimizer='adam')\n",
    "model.fit(X_train,y_train,validation_data=(X_test,y_test),epochs=100,batch_size=64)"
   ]
  },
  {
   "cell_type": "code",
   "execution_count": 59,
   "id": "96aefb02",
   "metadata": {},
   "outputs": [
    {
     "data": {
      "text/plain": [
       "[<matplotlib.lines.Line2D at 0x1a89377be20>]"
      ]
     },
     "execution_count": 59,
     "metadata": {},
     "output_type": "execute_result"
    },
    {
     "data": {
      "image/png": "[encoded data removed]",
      "text/plain": [
       "<Figure size 432x288 with 1 Axes>"
      ]
     },
     "metadata": {
      "needs_background": "light"
     },
     "output_type": "display_data"
    }
   ],
   "source": [
    "loss = model.history.history['loss']\n",
    "plt.plot(loss)"
   ]
  },
  {
   "cell_type": "code",
   "execution_count": 61,
   "id": "72226bc2",
   "metadata": {},
   "outputs": [],
   "source": [
    "train_predict = model.predict(X_train)\n",
    "test_predict = model.predict(X_test)"
   ]
  },
  {
   "cell_type": "code",
   "execution_count": 62,
   "id": "6cd6c539",
   "metadata": {},
   "outputs": [],
   "source": [
    "#Inverse the scaling features\n",
    "train_predict = normalizer.inverse_transform(train_predict)\n",
    "test_predict = normalizer.inverse_transform(test_predict)"
   ]
  },
  {
   "cell_type": "code",
   "execution_count": 75,
   "id": "d7f56e7f",
   "metadata": {},
   "outputs": [
    {
     "data": {
      "image/png": "[encoded data removed]",
      "text/plain": [
       "<Figure size 432x288 with 1 Axes>"
      ]
     },
     "metadata": {
      "needs_background": "light"
     },
     "output_type": "display_data"
    }
   ],
   "source": [
    "plt.plot(normalizer.inverse_transform(ds_scaled),label = 'Input Data')\n",
    "plt.plot(train_predict,label='train_predict')\n",
    "plt.plot(test_predict,label = 'test_predict')\n",
    "plt.legend()\n",
    "plt.show()"
   ]
  },
  {
   "cell_type": "code",
   "execution_count": 65,
   "id": "bbcf11c9",
   "metadata": {},
   "outputs": [],
   "source": [
    "appended_test_train = np.vstack((train_predict,test_predict))"
   ]
  },
  {
   "cell_type": "code",
   "execution_count": 66,
   "id": "3522c834",
   "metadata": {},
   "outputs": [
    {
     "data": {
      "text/plain": [
       "[<matplotlib.lines.Line2D at 0x1a8949b6dc0>]"
      ]
     },
     "execution_count": 66,
     "metadata": {},
     "output_type": "execute_result"
    },
    {
     "data": {
      "image/png": "[encoded data removed]",
      "text/plain": [
       "<Figure size 432x288 with 1 Axes>"
      ]
     },
     "metadata": {
      "needs_background": "light"
     },
     "output_type": "display_data"
    }
   ],
   "source": [
    "plt.plot(normalizer.inverse_transform(ds_scaled))\n",
    "plt.plot(appended_test_train)"
   ]
  },
  {
   "cell_type": "code",
   "execution_count": 70,
   "id": "a6df7ed0",
   "metadata": {},
   "outputs": [
    {
     "name": "stdout",
     "output_type": "stream",
     "text": [
      "Train RMSE: 1788.073\n"
     ]
    }
   ],
   "source": [
    "import math\n",
    "from statistics import mean\n",
    "from sklearn.metrics import mean_squared_error\n",
    "train_rmse = math.sqrt(mean_squared_error(y_train,train_predict))\n",
    "print('Train RMSE: %.3f' % train_rmse)"
   ]
  },
  {
   "cell_type": "code",
   "execution_count": 80,
   "id": "7e4f7e1f",
   "metadata": {},
   "outputs": [],
   "source": [
    "# 100 values lookback to predict the next 1 value\n",
    "future_predict = ds_test[len(ds_test)-100:]\n",
    "fut_predict = future_predict.reshape(1,-1)\n",
    "fut_input = list(fut_predict)\n",
    "tmp_inp = fut_input[0].tolist()"
   ]
  },
  {
   "cell_type": "code",
   "execution_count": 82,
   "id": "36cb1fd9",
   "metadata": {},
   "outputs": [],
   "source": [
    "#Predicting next 30 days, it will predict using the sliding window approach\n",
    "res=[]\n",
    "n_steps=100\n",
    "i=0\n",
    "while(i<30):\n",
    "    \n",
    "    if(len(tmp_inp)>100):\n",
    "        fut_predict = np.array(tmp_inp[1:])\n",
    "        fut_predict=fut_predict.reshape(1,-1)\n",
    "        fut_predict = fut_predict.reshape((1, n_steps, 1))\n",
    "        yhat = model.predict(fut_predict, verbose=0)\n",
    "        tmp_inp.extend(yhat[0].tolist())\n",
    "        tmp_inp = tmp_inp[1:]\n",
    "        res.extend(yhat.tolist())\n",
    "        i+=1\n",
    "    else:\n",
    "        fut_predict = fut_predict.reshape((1, n_steps,1))\n",
    "        yhat = model.predict(fut_predict, verbose=0)\n",
    "        tmp_inp.extend(yhat[0].tolist())\n",
    "        res.extend(yhat.tolist())\n",
    "        i+=1\n"
   ]
  },
  {
   "cell_type": "code",
   "execution_count": 84,
   "id": "c06301d7",
   "metadata": {},
   "outputs": [
    {
     "name": "stdout",
     "output_type": "stream",
     "text": [
      "[[0.8037554621696472], [0.8107189536094666], [0.8149319291114807], [0.8177404403686523], [0.819934606552124], [0.8220379948616028], [0.8244310021400452], [0.827370822429657], [0.8309908509254456], [0.8353098630905151], [0.8402599692344666], [0.8457131385803223], [0.851513147354126], [0.8575002551078796], [0.8635318875312805], [0.8694956302642822], [0.8753158450126648], [0.8809536695480347], [0.8864024877548218], [0.8916813731193542], [0.8968250155448914], [0.9018762111663818], [0.9068774580955505], [0.9118661880493164], [0.9168708324432373], [0.9219088554382324], [0.9269878268241882], [0.9321057200431824], [0.9372541308403015], [0.9424206614494324]]\n"
     ]
    },
    {
     "data": {
      "text/plain": [
       "1258"
      ]
     },
     "execution_count": 84,
     "metadata": {},
     "output_type": "execute_result"
    }
   ],
   "source": [
    "print(res)\n",
    "len(ds_scaled)"
   ]
  },
  {
   "cell_type": "code",
   "execution_count": 85,
   "id": "37da45f5",
   "metadata": {},
   "outputs": [
    {
     "data": {
      "text/plain": [
       "[<matplotlib.lines.Line2D at 0x1a894b7b940>]"
      ]
     },
     "execution_count": 85,
     "metadata": {},
     "output_type": "execute_result"
    },
    {
     "data": {
      "image/png": "[encoded data removed]",
      "text/plain": [
       "<Figure size 432x288 with 1 Axes>"
      ]
     },
     "metadata": {
      "needs_background": "light"
     },
     "output_type": "display_data"
    }
   ],
   "source": [
    "plot_new=np.arange(1,101)\n",
    "plot_pred=np.arange(101,131)\n",
    "plt.plot(plot_new, normalizer.inverse_transform(ds_scaled[1158:]))\n",
    "plt.plot(plot_pred, normalizer.inverse_transform(res))"
   ]
  },
  {
   "cell_type": "code",
   "execution_count": null,
   "id": "4f8acd0c",
   "metadata": {},
   "outputs": [],
   "source": []
  }
 ],
 "metadata": {
  "kernelspec": {
   "display_name": "Python 3",
   "language": "python",
   "name": "python3"
  },
  "language_info": {
   "codemirror_mode": {
    "name": "ipython",
    "version": 3
   },
   "file_extension": ".py",
   "mimetype": "text/x-python",
   "name": "python",
   "nbconvert_exporter": "python",
   "pygments_lexer": "ipython3",
   "version": "3.8.8"
  }
 },
 "nbformat": 4,
 "nbformat_minor": 5
}
