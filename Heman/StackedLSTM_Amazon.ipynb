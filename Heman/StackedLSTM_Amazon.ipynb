{
 "cells": [
  {
   "cell_type": "code",
   "execution_count": 151,
   "id": "d1be409b",
   "metadata": {},
   "outputs": [
    {
     "ename": "ModuleNotFoundError",
     "evalue": "No module named 'pandas_datareader'",
     "output_type": "error",
     "traceback": [
      "\u001b[1;31m---------------------------------------------------------------------------\u001b[0m",
      "\u001b[1;31mModuleNotFoundError\u001b[0m                       Traceback (most recent call last)",
      "\u001b[1;32m~\\AppData\\Local\\Temp/ipykernel_2464/352332802.py\u001b[0m in \u001b[0;36m<module>\u001b[1;34m\u001b[0m\n\u001b[1;32m----> 1\u001b[1;33m \u001b[1;32mimport\u001b[0m \u001b[0mpandas_datareader\u001b[0m \u001b[1;32mas\u001b[0m \u001b[0mpdr\u001b[0m\u001b[1;33m\u001b[0m\u001b[1;33m\u001b[0m\u001b[0m\n\u001b[0m\u001b[0;32m      2\u001b[0m \u001b[1;32mimport\u001b[0m \u001b[0mpandas\u001b[0m \u001b[1;32mas\u001b[0m \u001b[0mpd\u001b[0m\u001b[1;33m\u001b[0m\u001b[1;33m\u001b[0m\u001b[0m\n\u001b[0;32m      3\u001b[0m \u001b[1;32mimport\u001b[0m \u001b[0mnumpy\u001b[0m \u001b[1;32mas\u001b[0m \u001b[0mnp\u001b[0m\u001b[1;33m\u001b[0m\u001b[1;33m\u001b[0m\u001b[0m\n\u001b[0;32m      4\u001b[0m \u001b[1;32mimport\u001b[0m \u001b[0mmatplotlib\u001b[0m\u001b[1;33m.\u001b[0m\u001b[0mpyplot\u001b[0m \u001b[1;32mas\u001b[0m \u001b[0mplt\u001b[0m\u001b[1;33m\u001b[0m\u001b[1;33m\u001b[0m\u001b[0m\n\u001b[0;32m      5\u001b[0m \u001b[1;32mfrom\u001b[0m \u001b[0msklearn\u001b[0m\u001b[1;33m.\u001b[0m\u001b[0mpreprocessing\u001b[0m \u001b[1;32mimport\u001b[0m \u001b[0mMinMaxScaler\u001b[0m\u001b[1;33m\u001b[0m\u001b[1;33m\u001b[0m\u001b[0m\n",
      "\u001b[1;31mModuleNotFoundError\u001b[0m: No module named 'pandas_datareader'"
     ]
    }
   ],
   "source": [
    "import pandas_datareader as pdr\n",
    "import pandas as pd\n",
    "import numpy as np\n",
    "import matplotlib.pyplot as plt\n",
    "from sklearn.preprocessing import MinMaxScaler\n",
    "key = '5e6bbd0e3991e4888a436338a938fd961cd835ca'"
   ]
  },
  {
   "cell_type": "code",
   "execution_count": null,
   "id": "f0c833b7",
   "metadata": {},
   "outputs": [],
   "source": [
    "df = pdr.get_data_tiingo('AMZN',api_key=key)"
   ]
  },
  {
   "cell_type": "code",
   "execution_count": null,
   "id": "be9b10ec",
   "metadata": {},
   "outputs": [],
   "source": [
    "df['date'] = pd.to_datetime(df['date']).dt.date\n",
    "df.head()\n",
    "df.to_csv('AMZN.csv')"
   ]
  },
  {
   "cell_type": "code",
   "execution_count": 152,
   "id": "7bbc8a8e",
   "metadata": {},
   "outputs": [
    {
     "data": {
      "text/html": [
       "<div>\n",
       "<style scoped>\n",
       "    .dataframe tbody tr th:only-of-type {\n",
       "        vertical-align: middle;\n",
       "    }\n",
       "\n",
       "    .dataframe tbody tr th {\n",
       "        vertical-align: top;\n",
       "    }\n",
       "\n",
       "    .dataframe thead th {\n",
       "        text-align: right;\n",
       "    }\n",
       "</style>\n",
       "<table border=\"1\" class=\"dataframe\">\n",
       "  <thead>\n",
       "    <tr style=\"text-align: right;\">\n",
       "      <th></th>\n",
       "      <th>close</th>\n",
       "    </tr>\n",
       "    <tr>\n",
       "      <th>date</th>\n",
       "      <th></th>\n",
       "    </tr>\n",
       "  </thead>\n",
       "  <tbody>\n",
       "    <tr>\n",
       "      <th>2017-02-10 00:00:00+00:00</th>\n",
       "      <td>827.46</td>\n",
       "    </tr>\n",
       "    <tr>\n",
       "      <th>2017-02-13 00:00:00+00:00</th>\n",
       "      <td>836.53</td>\n",
       "    </tr>\n",
       "    <tr>\n",
       "      <th>2017-02-14 00:00:00+00:00</th>\n",
       "      <td>836.39</td>\n",
       "    </tr>\n",
       "    <tr>\n",
       "      <th>2017-02-15 00:00:00+00:00</th>\n",
       "      <td>842.70</td>\n",
       "    </tr>\n",
       "    <tr>\n",
       "      <th>2017-02-16 00:00:00+00:00</th>\n",
       "      <td>844.14</td>\n",
       "    </tr>\n",
       "  </tbody>\n",
       "</table>\n",
       "</div>"
      ],
      "text/plain": [
       "                            close\n",
       "date                             \n",
       "2017-02-10 00:00:00+00:00  827.46\n",
       "2017-02-13 00:00:00+00:00  836.53\n",
       "2017-02-14 00:00:00+00:00  836.39\n",
       "2017-02-15 00:00:00+00:00  842.70\n",
       "2017-02-16 00:00:00+00:00  844.14"
      ]
     },
     "execution_count": 152,
     "metadata": {},
     "output_type": "execute_result"
    }
   ],
   "source": [
    "df=pd.read_csv('AMZN.csv', usecols = ['date','close'], parse_dates=['date'], index_col=0)\n",
    "df.head()"
   ]
  },
  {
   "cell_type": "code",
   "execution_count": 153,
   "id": "d863f55d",
   "metadata": {},
   "outputs": [
    {
     "data": {
      "text/plain": [
       "(1258, 1)"
      ]
     },
     "execution_count": 153,
     "metadata": {},
     "output_type": "execute_result"
    }
   ],
   "source": [
    "df.shape"
   ]
  },
  {
   "cell_type": "code",
   "execution_count": 154,
   "id": "03217ed4",
   "metadata": {},
   "outputs": [],
   "source": [
    "scaler = MinMaxScaler(feature_range=(0,1))\n",
    "df1 = scaler.fit_transform(df.values)"
   ]
  },
  {
   "cell_type": "code",
   "execution_count": 155,
   "id": "97a2e845",
   "metadata": {},
   "outputs": [
    {
     "name": "stdout",
     "output_type": "stream",
     "text": [
      "(1258, 1)\n"
     ]
    }
   ],
   "source": [
    "print(df1.shape)"
   ]
  },
  {
   "cell_type": "code",
   "execution_count": 156,
   "id": "6d37f702",
   "metadata": {},
   "outputs": [],
   "source": [
    "# Splitting data into train and test\n",
    "training_size = int(len(df1)*0.70)\n",
    "test_size = len(df1)-training_size\n",
    "train_data = df1[0:training_size,:]\n",
    "test_data = df1[training_size:len(df1),:1]"
   ]
  },
  {
   "cell_type": "code",
   "execution_count": 157,
   "id": "621d6ea1",
   "metadata": {},
   "outputs": [],
   "source": [
    "#Converting array to matrix dataset\n",
    "def create_dataset(dataset,time_step=1):\n",
    "    dataX, dataY = [],[]\n",
    "    for i in range(len(dataset)-time_step-1):\n",
    "        temp = dataset[i:(i+time_step),0]\n",
    "        dataX.append(temp)\n",
    "        dataY.append(dataset[i+time_step,0])\n",
    "    return np.array(dataX), np.array(dataY)\n",
    "        "
   ]
  },
  {
   "cell_type": "code",
   "execution_count": 158,
   "id": "80e81796",
   "metadata": {},
   "outputs": [
    {
     "name": "stdout",
     "output_type": "stream",
     "text": [
      "(729, 150) (729,) (227, 150) (227,)\n"
     ]
    }
   ],
   "source": [
    "time_step = 150\n",
    "X_train,Y_train = create_dataset(train_data,time_step)\n",
    "X_test,Y_test = create_dataset(test_data,time_step)\n",
    "print(X_train.shape, Y_train.shape, X_test.shape, Y_test.shape)"
   ]
  },
  {
   "cell_type": "code",
   "execution_count": 159,
   "id": "d30ba78c",
   "metadata": {},
   "outputs": [],
   "source": [
    "X_train = X_train.reshape(X_train.shape[0],X_train.shape[1],1)\n",
    "X_test = X_test.reshape(X_test.shape[0],X_test.shape[1],1)"
   ]
  },
  {
   "cell_type": "code",
   "execution_count": 160,
   "id": "d331c1e3",
   "metadata": {},
   "outputs": [],
   "source": [
    "from tensorflow.keras.models import Sequential\n",
    "from tensorflow.keras.layers import Dense\n",
    "from tensorflow.keras.layers import LSTM"
   ]
  },
  {
   "cell_type": "code",
   "execution_count": 161,
   "id": "180aca86",
   "metadata": {},
   "outputs": [],
   "source": [
    "model = Sequential()\n",
    "model.add(LSTM(50,return_sequences=True,input_shape=(X_train.shape[1], X_train.shape[2])))\n",
    "model.add(LSTM(50,return_sequences=True))\n",
    "model.add(LSTM(50))\n",
    "model.add(Dense(1))\n",
    "model.compile(loss='mean_squared_error',optimizer='adam')"
   ]
  },
  {
   "cell_type": "code",
   "execution_count": 162,
   "id": "64d23779",
   "metadata": {},
   "outputs": [
    {
     "name": "stdout",
     "output_type": "stream",
     "text": [
      "Model: \"sequential_7\"\n",
      "_________________________________________________________________\n",
      "Layer (type)                 Output Shape              Param #   \n",
      "=================================================================\n",
      "lstm_21 (LSTM)               (None, 150, 50)           10400     \n",
      "_________________________________________________________________\n",
      "lstm_22 (LSTM)               (None, 150, 50)           20200     \n",
      "_________________________________________________________________\n",
      "lstm_23 (LSTM)               (None, 50)                20200     \n",
      "_________________________________________________________________\n",
      "dense_7 (Dense)              (None, 1)                 51        \n",
      "=================================================================\n",
      "Total params: 50,851\n",
      "Trainable params: 50,851\n",
      "Non-trainable params: 0\n",
      "_________________________________________________________________\n"
     ]
    }
   ],
   "source": [
    "model.summary()"
   ]
  },
  {
   "cell_type": "code",
   "execution_count": 163,
   "id": "066727ae",
   "metadata": {},
   "outputs": [
    {
     "name": "stdout",
     "output_type": "stream",
     "text": [
      "Epoch 1/150\n",
      "2/2 [==============================] - 6s 2s/step - loss: 0.1110 - val_loss: 0.4470\n",
      "Epoch 2/150\n",
      "2/2 [==============================] - 2s 1s/step - loss: 0.0577 - val_loss: 0.1867\n",
      "Epoch 3/150\n",
      "2/2 [==============================] - 3s 1s/step - loss: 0.0150 - val_loss: 0.0063\n",
      "Epoch 4/150\n",
      "2/2 [==============================] - 3s 1s/step - loss: 0.0146 - val_loss: 0.0056\n",
      "Epoch 5/150\n",
      "2/2 [==============================] - 3s 1s/step - loss: 0.0181 - val_loss: 0.0172\n",
      "Epoch 6/150\n",
      "2/2 [==============================] - 3s 1s/step - loss: 0.0054 - val_loss: 0.0751\n",
      "Epoch 7/150\n",
      "2/2 [==============================] - 3s 1s/step - loss: 0.0072 - val_loss: 0.1162\n",
      "Epoch 8/150\n",
      "2/2 [==============================] - 3s 1s/step - loss: 0.0105 - val_loss: 0.1141\n",
      "Epoch 9/150\n",
      "2/2 [==============================] - 3s 1s/step - loss: 0.0097 - val_loss: 0.0828\n",
      "Epoch 10/150\n",
      "2/2 [==============================] - 3s 1s/step - loss: 0.0062 - val_loss: 0.0448\n",
      "Epoch 11/150\n",
      "2/2 [==============================] - 3s 1s/step - loss: 0.0041 - val_loss: 0.0175\n",
      "Epoch 12/150\n",
      "2/2 [==============================] - 3s 1s/step - loss: 0.0048 - val_loss: 0.0077\n",
      "Epoch 13/150\n",
      "2/2 [==============================] - 3s 1s/step - loss: 0.0057 - val_loss: 0.0082\n",
      "Epoch 14/150\n",
      "2/2 [==============================] - 3s 1s/step - loss: 0.0046 - val_loss: 0.0154\n",
      "Epoch 15/150\n",
      "2/2 [==============================] - 3s 1s/step - loss: 0.0031 - val_loss: 0.0257\n",
      "Epoch 16/150\n",
      "2/2 [==============================] - 3s 1s/step - loss: 0.0031 - val_loss: 0.0312\n",
      "Epoch 17/150\n",
      "2/2 [==============================] - 3s 1s/step - loss: 0.0034 - val_loss: 0.0268\n",
      "Epoch 18/150\n",
      "2/2 [==============================] - 3s 1s/step - loss: 0.0030 - val_loss: 0.0153\n",
      "Epoch 19/150\n",
      "2/2 [==============================] - 3s 1s/step - loss: 0.0022 - val_loss: 0.0054\n",
      "Epoch 20/150\n",
      "2/2 [==============================] - 3s 1s/step - loss: 0.0018 - val_loss: 0.0026\n",
      "Epoch 21/150\n",
      "2/2 [==============================] - 3s 1s/step - loss: 0.0020 - val_loss: 0.0033\n",
      "Epoch 22/150\n",
      "2/2 [==============================] - 3s 1s/step - loss: 0.0018 - val_loss: 0.0030\n",
      "Epoch 23/150\n",
      "2/2 [==============================] - 3s 1s/step - loss: 0.0013 - val_loss: 0.0027\n",
      "Epoch 24/150\n",
      "2/2 [==============================] - 3s 1s/step - loss: 0.0013 - val_loss: 0.0027\n",
      "Epoch 25/150\n",
      "2/2 [==============================] - 3s 1s/step - loss: 0.0014 - val_loss: 0.0034\n",
      "Epoch 26/150\n",
      "2/2 [==============================] - 3s 1s/step - loss: 0.0012 - val_loss: 0.0076\n",
      "Epoch 27/150\n",
      "2/2 [==============================] - 3s 1s/step - loss: 0.0011 - val_loss: 0.0144\n",
      "Epoch 28/150\n",
      "2/2 [==============================] - 3s 1s/step - loss: 0.0012 - val_loss: 0.0162\n",
      "Epoch 29/150\n",
      "2/2 [==============================] - 3s 1s/step - loss: 0.0012 - val_loss: 0.0122\n",
      "Epoch 30/150\n",
      "2/2 [==============================] - 3s 1s/step - loss: 0.0011 - val_loss: 0.0089\n",
      "Epoch 31/150\n",
      "2/2 [==============================] - 3s 1s/step - loss: 0.0012 - val_loss: 0.0090\n",
      "Epoch 32/150\n",
      "2/2 [==============================] - 3s 1s/step - loss: 0.0012 - val_loss: 0.0116\n",
      "Epoch 33/150\n",
      "2/2 [==============================] - 3s 1s/step - loss: 0.0011 - val_loss: 0.0142\n",
      "Epoch 34/150\n",
      "2/2 [==============================] - 3s 1s/step - loss: 0.0011 - val_loss: 0.0135\n",
      "Epoch 35/150\n",
      "2/2 [==============================] - 3s 1s/step - loss: 0.0011 - val_loss: 0.0101\n",
      "Epoch 36/150\n",
      "2/2 [==============================] - 3s 1s/step - loss: 0.0011 - val_loss: 0.0076\n",
      "Epoch 37/150\n",
      "2/2 [==============================] - 3s 1s/step - loss: 0.0011 - val_loss: 0.0069\n",
      "Epoch 38/150\n",
      "2/2 [==============================] - 3s 1s/step - loss: 0.0011 - val_loss: 0.0074\n",
      "Epoch 39/150\n",
      "2/2 [==============================] - 3s 1s/step - loss: 0.0011 - val_loss: 0.0083\n",
      "Epoch 40/150\n",
      "2/2 [==============================] - 3s 1s/step - loss: 0.0011 - val_loss: 0.0079\n",
      "Epoch 41/150\n",
      "2/2 [==============================] - 3s 1s/step - loss: 0.0011 - val_loss: 0.0065\n",
      "Epoch 42/150\n",
      "2/2 [==============================] - 3s 1s/step - loss: 0.0011 - val_loss: 0.0052\n",
      "Epoch 43/150\n",
      "2/2 [==============================] - 3s 1s/step - loss: 0.0011 - val_loss: 0.0053\n",
      "Epoch 44/150\n",
      "2/2 [==============================] - 3s 1s/step - loss: 0.0011 - val_loss: 0.0061\n",
      "Epoch 45/150\n",
      "2/2 [==============================] - 3s 1s/step - loss: 0.0011 - val_loss: 0.0069\n",
      "Epoch 46/150\n",
      "2/2 [==============================] - 3s 1s/step - loss: 0.0011 - val_loss: 0.0069\n",
      "Epoch 47/150\n",
      "2/2 [==============================] - 3s 1s/step - loss: 0.0010 - val_loss: 0.0067\n",
      "Epoch 48/150\n",
      "2/2 [==============================] - 3s 1s/step - loss: 0.0010 - val_loss: 0.0063\n",
      "Epoch 49/150\n",
      "2/2 [==============================] - 3s 1s/step - loss: 0.0010 - val_loss: 0.0069\n",
      "Epoch 50/150\n",
      "2/2 [==============================] - 3s 1s/step - loss: 0.0010 - val_loss: 0.0081\n",
      "Epoch 51/150\n",
      "2/2 [==============================] - 3s 1s/step - loss: 0.0010 - val_loss: 0.0088\n",
      "Epoch 52/150\n",
      "2/2 [==============================] - 3s 1s/step - loss: 0.0010 - val_loss: 0.0079\n",
      "Epoch 53/150\n",
      "2/2 [==============================] - 3s 1s/step - loss: 0.0010 - val_loss: 0.0069\n",
      "Epoch 54/150\n",
      "2/2 [==============================] - 3s 1s/step - loss: 0.0010 - val_loss: 0.0073\n",
      "Epoch 55/150\n",
      "2/2 [==============================] - 3s 1s/step - loss: 0.0010 - val_loss: 0.0089\n",
      "Epoch 56/150\n",
      "2/2 [==============================] - 3s 1s/step - loss: 0.0010 - val_loss: 0.0098\n",
      "Epoch 57/150\n",
      "2/2 [==============================] - 3s 1s/step - loss: 0.0010 - val_loss: 0.0089\n",
      "Epoch 58/150\n",
      "2/2 [==============================] - 3s 1s/step - loss: 0.0010 - val_loss: 0.0075\n",
      "Epoch 59/150\n",
      "2/2 [==============================] - 3s 1s/step - loss: 0.0010 - val_loss: 0.0072\n",
      "Epoch 60/150\n",
      "2/2 [==============================] - 3s 1s/step - loss: 0.0010 - val_loss: 0.0078\n",
      "Epoch 61/150\n",
      "2/2 [==============================] - 3s 1s/step - loss: 0.0010 - val_loss: 0.0089\n",
      "Epoch 62/150\n",
      "2/2 [==============================] - 3s 1s/step - loss: 0.0010 - val_loss: 0.0088\n",
      "Epoch 63/150\n",
      "2/2 [==============================] - 3s 1s/step - loss: 0.0010 - val_loss: 0.0074\n",
      "Epoch 64/150\n",
      "2/2 [==============================] - 3s 1s/step - loss: 0.0010 - val_loss: 0.0067\n",
      "Epoch 65/150\n",
      "2/2 [==============================] - 3s 1s/step - loss: 9.9944e-04 - val_loss: 0.0073\n",
      "Epoch 66/150\n",
      "2/2 [==============================] - 3s 1s/step - loss: 9.9283e-04 - val_loss: 0.0081\n",
      "Epoch 67/150\n",
      "2/2 [==============================] - 3s 1s/step - loss: 9.9444e-04 - val_loss: 0.0079\n",
      "Epoch 68/150\n",
      "2/2 [==============================] - 3s 1s/step - loss: 9.8938e-04 - val_loss: 0.0071\n",
      "Epoch 69/150\n",
      "2/2 [==============================] - 3s 1s/step - loss: 9.8607e-04 - val_loss: 0.0066\n",
      "Epoch 70/150\n",
      "2/2 [==============================] - 3s 1s/step - loss: 9.8566e-04 - val_loss: 0.0069\n",
      "Epoch 71/150\n",
      "2/2 [==============================] - 3s 1s/step - loss: 9.8129e-04 - val_loss: 0.0073\n",
      "Epoch 72/150\n",
      "2/2 [==============================] - 3s 1s/step - loss: 9.7754e-04 - val_loss: 0.0072\n",
      "Epoch 73/150\n",
      "2/2 [==============================] - 3s 1s/step - loss: 9.7465e-04 - val_loss: 0.0069\n",
      "Epoch 74/150\n",
      "2/2 [==============================] - 3s 1s/step - loss: 9.7442e-04 - val_loss: 0.0067\n",
      "Epoch 75/150\n",
      "2/2 [==============================] - 3s 1s/step - loss: 9.6993e-04 - val_loss: 0.0072\n",
      "Epoch 76/150\n",
      "2/2 [==============================] - 3s 1s/step - loss: 9.6664e-04 - val_loss: 0.0071\n",
      "Epoch 77/150\n",
      "2/2 [==============================] - 3s 1s/step - loss: 9.6370e-04 - val_loss: 0.0068\n",
      "Epoch 78/150\n",
      "2/2 [==============================] - 3s 1s/step - loss: 9.6108e-04 - val_loss: 0.0065\n",
      "Epoch 79/150\n",
      "2/2 [==============================] - 3s 1s/step - loss: 9.5836e-04 - val_loss: 0.0063\n",
      "Epoch 80/150\n",
      "2/2 [==============================] - 3s 1s/step - loss: 9.5772e-04 - val_loss: 0.0065\n",
      "Epoch 81/150\n",
      "2/2 [==============================] - 3s 1s/step - loss: 9.5258e-04 - val_loss: 0.0066\n",
      "Epoch 82/150\n",
      "2/2 [==============================] - 3s 1s/step - loss: 9.4898e-04 - val_loss: 0.0068\n",
      "Epoch 83/150\n",
      "2/2 [==============================] - 3s 1s/step - loss: 9.4716e-04 - val_loss: 0.0068\n",
      "Epoch 84/150\n",
      "2/2 [==============================] - 3s 1s/step - loss: 9.4443e-04 - val_loss: 0.0062\n",
      "Epoch 85/150\n",
      "2/2 [==============================] - 3s 1s/step - loss: 9.3942e-04 - val_loss: 0.0056\n",
      "Epoch 86/150\n",
      "2/2 [==============================] - 3s 1s/step - loss: 9.4247e-04 - val_loss: 0.0057\n",
      "Epoch 87/150\n",
      "2/2 [==============================] - 3s 1s/step - loss: 9.3278e-04 - val_loss: 0.0067\n",
      "Epoch 88/150\n",
      "2/2 [==============================] - 3s 1s/step - loss: 9.3498e-04 - val_loss: 0.0070\n",
      "Epoch 89/150\n",
      "2/2 [==============================] - 3s 1s/step - loss: 9.3473e-04 - val_loss: 0.0060\n",
      "Epoch 90/150\n",
      "2/2 [==============================] - 3s 1s/step - loss: 9.2268e-04 - val_loss: 0.0050\n",
      "Epoch 91/150\n",
      "2/2 [==============================] - 3s 1s/step - loss: 9.3042e-04 - val_loss: 0.0052\n",
      "Epoch 92/150\n",
      "2/2 [==============================] - 3s 1s/step - loss: 9.2101e-04 - val_loss: 0.0062\n",
      "Epoch 93/150\n",
      "2/2 [==============================] - 3s 1s/step - loss: 9.1837e-04 - val_loss: 0.0062\n",
      "Epoch 94/150\n",
      "2/2 [==============================] - 3s 1s/step - loss: 9.1698e-04 - val_loss: 0.0053\n",
      "Epoch 95/150\n",
      "2/2 [==============================] - 3s 1s/step - loss: 9.0891e-04 - val_loss: 0.0053\n",
      "Epoch 96/150\n",
      "2/2 [==============================] - 3s 1s/step - loss: 9.0576e-04 - val_loss: 0.0054\n",
      "Epoch 97/150\n",
      "2/2 [==============================] - 3s 1s/step - loss: 9.0180e-04 - val_loss: 0.0056\n",
      "Epoch 98/150\n",
      "2/2 [==============================] - 3s 1s/step - loss: 8.9940e-04 - val_loss: 0.0054\n",
      "Epoch 99/150\n",
      "2/2 [==============================] - 3s 1s/step - loss: 8.9513e-04 - val_loss: 0.0049\n",
      "Epoch 100/150\n",
      "2/2 [==============================] - 3s 1s/step - loss: 8.9270e-04 - val_loss: 0.0048\n",
      "Epoch 101/150\n",
      "2/2 [==============================] - 3s 1s/step - loss: 8.8954e-04 - val_loss: 0.0051\n",
      "Epoch 102/150\n",
      "2/2 [==============================] - 3s 1s/step - loss: 8.8544e-04 - val_loss: 0.0049\n",
      "Epoch 103/150\n",
      "2/2 [==============================] - 3s 1s/step - loss: 8.8382e-04 - val_loss: 0.0047\n",
      "Epoch 104/150\n",
      "2/2 [==============================] - 3s 1s/step - loss: 8.8188e-04 - val_loss: 0.0043\n",
      "Epoch 105/150\n",
      "2/2 [==============================] - 3s 1s/step - loss: 8.7758e-04 - val_loss: 0.0049\n",
      "Epoch 106/150\n",
      "2/2 [==============================] - 3s 1s/step - loss: 8.7297e-04 - val_loss: 0.0047\n",
      "Epoch 107/150\n",
      "2/2 [==============================] - 3s 1s/step - loss: 8.7150e-04 - val_loss: 0.0042\n",
      "Epoch 108/150\n",
      "2/2 [==============================] - 3s 1s/step - loss: 8.6706e-04 - val_loss: 0.0047\n",
      "Epoch 109/150\n",
      "2/2 [==============================] - 3s 1s/step - loss: 8.6151e-04 - val_loss: 0.0045\n",
      "Epoch 110/150\n",
      "2/2 [==============================] - 3s 1s/step - loss: 8.5830e-04 - val_loss: 0.0043\n",
      "Epoch 111/150\n",
      "2/2 [==============================] - 3s 1s/step - loss: 8.5916e-04 - val_loss: 0.0042\n",
      "Epoch 112/150\n",
      "2/2 [==============================] - 3s 1s/step - loss: 8.5197e-04 - val_loss: 0.0048\n",
      "Epoch 113/150\n",
      "2/2 [==============================] - 3s 1s/step - loss: 8.5080e-04 - val_loss: 0.0043\n",
      "Epoch 114/150\n",
      "2/2 [==============================] - 3s 1s/step - loss: 8.4442e-04 - val_loss: 0.0041\n",
      "Epoch 115/150\n",
      "2/2 [==============================] - 3s 1s/step - loss: 8.4212e-04 - val_loss: 0.0042\n",
      "Epoch 116/150\n",
      "2/2 [==============================] - 3s 1s/step - loss: 8.3758e-04 - val_loss: 0.0046\n",
      "Epoch 117/150\n",
      "2/2 [==============================] - 3s 1s/step - loss: 8.3704e-04 - val_loss: 0.0043\n",
      "Epoch 118/150\n",
      "2/2 [==============================] - 3s 1s/step - loss: 8.3095e-04 - val_loss: 0.0037\n",
      "Epoch 119/150\n",
      "2/2 [==============================] - 3s 1s/step - loss: 8.3254e-04 - val_loss: 0.0041\n",
      "Epoch 120/150\n",
      "2/2 [==============================] - 3s 1s/step - loss: 8.3340e-04 - val_loss: 0.0046\n",
      "Epoch 121/150\n",
      "2/2 [==============================] - 3s 1s/step - loss: 8.2416e-04 - val_loss: 0.0036\n",
      "Epoch 122/150\n",
      "2/2 [==============================] - 3s 1s/step - loss: 8.2233e-04 - val_loss: 0.0039\n",
      "Epoch 123/150\n",
      "2/2 [==============================] - 3s 1s/step - loss: 8.1552e-04 - val_loss: 0.0045\n",
      "Epoch 124/150\n",
      "2/2 [==============================] - 3s 1s/step - loss: 8.1589e-04 - val_loss: 0.0040\n",
      "Epoch 125/150\n",
      "2/2 [==============================] - 3s 1s/step - loss: 8.1193e-04 - val_loss: 0.0038\n",
      "Epoch 126/150\n",
      "2/2 [==============================] - 3s 1s/step - loss: 8.0663e-04 - val_loss: 0.0043\n",
      "Epoch 127/150\n",
      "2/2 [==============================] - 3s 1s/step - loss: 8.0609e-04 - val_loss: 0.0042\n",
      "Epoch 128/150\n",
      "2/2 [==============================] - 3s 1s/step - loss: 8.0094e-04 - val_loss: 0.0035\n",
      "Epoch 129/150\n",
      "2/2 [==============================] - 3s 1s/step - loss: 8.0062e-04 - val_loss: 0.0036\n",
      "Epoch 130/150\n",
      "2/2 [==============================] - 3s 1s/step - loss: 7.9851e-04 - val_loss: 0.0042\n",
      "Epoch 131/150\n",
      "2/2 [==============================] - 3s 1s/step - loss: 7.9874e-04 - val_loss: 0.0037\n",
      "Epoch 132/150\n",
      "2/2 [==============================] - 3s 1s/step - loss: 7.9226e-04 - val_loss: 0.0039\n",
      "Epoch 133/150\n",
      "2/2 [==============================] - 3s 1s/step - loss: 7.9427e-04 - val_loss: 0.0036\n",
      "Epoch 134/150\n",
      "2/2 [==============================] - 3s 1s/step - loss: 7.8352e-04 - val_loss: 0.0042\n",
      "Epoch 135/150\n",
      "2/2 [==============================] - 3s 1s/step - loss: 7.8254e-04 - val_loss: 0.0036\n",
      "Epoch 136/150\n",
      "2/2 [==============================] - 3s 1s/step - loss: 7.8211e-04 - val_loss: 0.0037\n",
      "Epoch 137/150\n",
      "2/2 [==============================] - 3s 1s/step - loss: 7.8502e-04 - val_loss: 0.0039\n",
      "Epoch 138/150\n",
      "2/2 [==============================] - 3s 1s/step - loss: 7.7651e-04 - val_loss: 0.0030\n",
      "Epoch 139/150\n",
      "2/2 [==============================] - 3s 1s/step - loss: 7.7285e-04 - val_loss: 0.0038\n",
      "Epoch 140/150\n",
      "2/2 [==============================] - 3s 1s/step - loss: 7.6758e-04 - val_loss: 0.0035\n",
      "Epoch 141/150\n",
      "2/2 [==============================] - 3s 1s/step - loss: 7.6814e-04 - val_loss: 0.0031\n",
      "Epoch 142/150\n",
      "2/2 [==============================] - 3s 1s/step - loss: 7.5883e-04 - val_loss: 0.0039\n",
      "Epoch 143/150\n",
      "2/2 [==============================] - 3s 1s/step - loss: 7.6935e-04 - val_loss: 0.0033\n",
      "Epoch 144/150\n",
      "2/2 [==============================] - 3s 1s/step - loss: 7.5250e-04 - val_loss: 0.0025\n",
      "Epoch 145/150\n",
      "2/2 [==============================] - 3s 1s/step - loss: 7.6502e-04 - val_loss: 0.0036\n",
      "Epoch 146/150\n",
      "2/2 [==============================] - 3s 1s/step - loss: 7.5932e-04 - val_loss: 0.0035\n",
      "Epoch 147/150\n",
      "2/2 [==============================] - 3s 1s/step - loss: 7.4437e-04 - val_loss: 0.0024\n",
      "Epoch 148/150\n",
      "2/2 [==============================] - 3s 1s/step - loss: 7.5795e-04 - val_loss: 0.0032\n",
      "Epoch 149/150\n",
      "2/2 [==============================] - 3s 1s/step - loss: 7.4056e-04 - val_loss: 0.0035\n",
      "Epoch 150/150\n",
      "2/2 [==============================] - 3s 1s/step - loss: 7.4000e-04 - val_loss: 0.0025\n"
     ]
    },
    {
     "data": {
      "image/png": "[encoded data removed]",
      "text/plain": [
       "<Figure size 576x360 with 1 Axes>"
      ]
     },
     "metadata": {
      "needs_background": "light"
     },
     "output_type": "display_data"
    }
   ],
   "source": [
    "history = model.fit(X_train,Y_train,validation_data=(X_test,Y_test),epochs=150,batch_size=450,verbose=1)\n",
    "# plot history\n",
    "plt.figure(figsize=(8,5))\n",
    "plt.plot(history.history['loss'], label='train_MAE')\n",
    "plt.plot(history.history['val_loss'], label='test_MAE')\n",
    "plt.legend()\n",
    "plt.show()"
   ]
  },
  {
   "cell_type": "code",
   "execution_count": 164,
   "id": "a83c910d",
   "metadata": {},
   "outputs": [],
   "source": [
    "train_predict=model.predict(X_train)\n",
    "test_predict=model.predict(X_test)"
   ]
  },
  {
   "cell_type": "code",
   "execution_count": 165,
   "id": "635a0d84",
   "metadata": {},
   "outputs": [
    {
     "name": "stdout",
     "output_type": "stream",
     "text": [
      "Train RMSE: 0.027\n",
      "Test RMSE: 0.050\n"
     ]
    }
   ],
   "source": [
    "import math\n",
    "from statistics import mean\n",
    "from sklearn.metrics import mean_squared_error\n",
    "train_rmse = math.sqrt(mean_squared_error(Y_train,train_predict))\n",
    "test_rmse = math.sqrt(mean_squared_error(Y_test,test_predict))\n",
    "print('Train RMSE: %.3f' % train_rmse)\n",
    "print('Test RMSE: %.3f' % test_rmse)"
   ]
  },
  {
   "cell_type": "code",
   "execution_count": 166,
   "id": "1631ba01",
   "metadata": {},
   "outputs": [],
   "source": [
    "train_predict=scaler.inverse_transform(train_predict)\n",
    "test_predict=scaler.inverse_transform(test_predict)"
   ]
  },
  {
   "cell_type": "code",
   "execution_count": 167,
   "id": "c6da5a94",
   "metadata": {},
   "outputs": [
    {
     "data": {
      "image/png": "[encoded data removed]",
      "text/plain": [
       "<Figure size 1080x720 with 1 Axes>"
      ]
     },
     "metadata": {
      "needs_background": "light"
     },
     "output_type": "display_data"
    }
   ],
   "source": [
    "# Plotting original data csv\n",
    "plt.figure(figsize=(15,10))\n",
    "plt.plot(df.index, df['close'].values)\n",
    "plt.plot(df.index[time_step:len(train_predict)+time_step], train_predict)\n",
    "plt.plot(df.index[len(train_predict)+(time_step*2)+1:len(df1)-1], test_predict)\n",
    "\n",
    "plt.show()"
   ]
  }
 ],
 "metadata": {
  "kernelspec": {
   "display_name": "Python 3",
   "language": "python",
   "name": "python3"
  },
  "language_info": {
   "codemirror_mode": {
    "name": "ipython",
    "version": 3
   },
   "file_extension": ".py",
   "mimetype": "text/x-python",
   "name": "python",
   "nbconvert_exporter": "python",
   "pygments_lexer": "ipython3",
   "version": "3.9.7"
  }
 },
 "nbformat": 4,
 "nbformat_minor": 5
}
