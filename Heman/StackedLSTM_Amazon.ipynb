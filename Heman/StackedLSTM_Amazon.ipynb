{
 "cells": [
  {
   "cell_type": "code",
   "execution_count": 96,
   "id": "d1be409b",
   "metadata": {},
   "outputs": [],
   "source": [
    "import pandas_datareader as pdr\n",
    "import pandas as pd\n",
    "import numpy as np\n",
    "import matplotlib.pyplot as plt\n",
    "from sklearn.preprocessing import MinMaxScaler\n",
    "key = '5e6bbd0e3991e4888a436338a938fd961cd835ca'"
   ]
  },
  {
   "cell_type": "code",
   "execution_count": 97,
   "id": "f0c833b7",
   "metadata": {},
   "outputs": [],
   "source": [
    "df = pdr.get_data_tiingo('AMZN',api_key=key)"
   ]
  },
  {
   "cell_type": "code",
   "execution_count": 163,
   "id": "be9b10ec",
   "metadata": {},
   "outputs": [
    {
     "data": {
      "text/html": [
       "<div>\n",
       "<style scoped>\n",
       "    .dataframe tbody tr th:only-of-type {\n",
       "        vertical-align: middle;\n",
       "    }\n",
       "\n",
       "    .dataframe tbody tr th {\n",
       "        vertical-align: top;\n",
       "    }\n",
       "\n",
       "    .dataframe thead th {\n",
       "        text-align: right;\n",
       "    }\n",
       "</style>\n",
       "<table border=\"1\" class=\"dataframe\">\n",
       "  <thead>\n",
       "    <tr style=\"text-align: right;\">\n",
       "      <th></th>\n",
       "      <th>symbol</th>\n",
       "      <th>date</th>\n",
       "      <th>close</th>\n",
       "      <th>high</th>\n",
       "      <th>low</th>\n",
       "      <th>open</th>\n",
       "      <th>volume</th>\n",
       "      <th>adjClose</th>\n",
       "      <th>adjHigh</th>\n",
       "      <th>adjLow</th>\n",
       "      <th>adjOpen</th>\n",
       "      <th>adjVolume</th>\n",
       "      <th>divCash</th>\n",
       "      <th>splitFactor</th>\n",
       "    </tr>\n",
       "  </thead>\n",
       "  <tbody>\n",
       "    <tr>\n",
       "      <th>0</th>\n",
       "      <td>AMZN</td>\n",
       "      <td>2017-02-10</td>\n",
       "      <td>827.46</td>\n",
       "      <td>828.0000</td>\n",
       "      <td>822.8500</td>\n",
       "      <td>823.82</td>\n",
       "      <td>2429609</td>\n",
       "      <td>827.46</td>\n",
       "      <td>828.0000</td>\n",
       "      <td>822.8500</td>\n",
       "      <td>823.82</td>\n",
       "      <td>2429609</td>\n",
       "      <td>0.0</td>\n",
       "      <td>1.0</td>\n",
       "    </tr>\n",
       "    <tr>\n",
       "      <th>1</th>\n",
       "      <td>AMZN</td>\n",
       "      <td>2017-02-13</td>\n",
       "      <td>836.53</td>\n",
       "      <td>842.9999</td>\n",
       "      <td>828.5500</td>\n",
       "      <td>831.62</td>\n",
       "      <td>4172618</td>\n",
       "      <td>836.53</td>\n",
       "      <td>842.9999</td>\n",
       "      <td>828.5500</td>\n",
       "      <td>831.62</td>\n",
       "      <td>4172618</td>\n",
       "      <td>0.0</td>\n",
       "      <td>1.0</td>\n",
       "    </tr>\n",
       "    <tr>\n",
       "      <th>2</th>\n",
       "      <td>AMZN</td>\n",
       "      <td>2017-02-14</td>\n",
       "      <td>836.39</td>\n",
       "      <td>838.3100</td>\n",
       "      <td>831.4522</td>\n",
       "      <td>837.00</td>\n",
       "      <td>2792442</td>\n",
       "      <td>836.39</td>\n",
       "      <td>838.3100</td>\n",
       "      <td>831.4522</td>\n",
       "      <td>837.00</td>\n",
       "      <td>2792442</td>\n",
       "      <td>0.0</td>\n",
       "      <td>1.0</td>\n",
       "    </tr>\n",
       "    <tr>\n",
       "      <th>3</th>\n",
       "      <td>AMZN</td>\n",
       "      <td>2017-02-15</td>\n",
       "      <td>842.70</td>\n",
       "      <td>842.8100</td>\n",
       "      <td>832.8200</td>\n",
       "      <td>834.00</td>\n",
       "      <td>2968853</td>\n",
       "      <td>842.70</td>\n",
       "      <td>842.8100</td>\n",
       "      <td>832.8200</td>\n",
       "      <td>834.00</td>\n",
       "      <td>2968853</td>\n",
       "      <td>0.0</td>\n",
       "      <td>1.0</td>\n",
       "    </tr>\n",
       "    <tr>\n",
       "      <th>4</th>\n",
       "      <td>AMZN</td>\n",
       "      <td>2017-02-16</td>\n",
       "      <td>844.14</td>\n",
       "      <td>845.0000</td>\n",
       "      <td>839.3750</td>\n",
       "      <td>841.84</td>\n",
       "      <td>2714667</td>\n",
       "      <td>844.14</td>\n",
       "      <td>845.0000</td>\n",
       "      <td>839.3750</td>\n",
       "      <td>841.84</td>\n",
       "      <td>2714667</td>\n",
       "      <td>0.0</td>\n",
       "      <td>1.0</td>\n",
       "    </tr>\n",
       "  </tbody>\n",
       "</table>\n",
       "</div>"
      ],
      "text/plain": [
       "  symbol        date   close      high       low    open   volume  adjClose  \\\n",
       "0   AMZN  2017-02-10  827.46  828.0000  822.8500  823.82  2429609    827.46   \n",
       "1   AMZN  2017-02-13  836.53  842.9999  828.5500  831.62  4172618    836.53   \n",
       "2   AMZN  2017-02-14  836.39  838.3100  831.4522  837.00  2792442    836.39   \n",
       "3   AMZN  2017-02-15  842.70  842.8100  832.8200  834.00  2968853    842.70   \n",
       "4   AMZN  2017-02-16  844.14  845.0000  839.3750  841.84  2714667    844.14   \n",
       "\n",
       "    adjHigh    adjLow  adjOpen  adjVolume  divCash  splitFactor  \n",
       "0  828.0000  822.8500   823.82    2429609      0.0          1.0  \n",
       "1  842.9999  828.5500   831.62    4172618      0.0          1.0  \n",
       "2  838.3100  831.4522   837.00    2792442      0.0          1.0  \n",
       "3  842.8100  832.8200   834.00    2968853      0.0          1.0  \n",
       "4  845.0000  839.3750   841.84    2714667      0.0          1.0  "
      ]
     },
     "execution_count": 163,
     "metadata": {},
     "output_type": "execute_result"
    }
   ],
   "source": [
    "df.to_csv('AMZN.csv')\n",
    "df['date'] = pd.to_datetime(df['date']).dt.date\n",
    "df.head()"
   ]
  },
  {
   "cell_type": "code",
   "execution_count": 167,
   "id": "7bbc8a8e",
   "metadata": {},
   "outputs": [
    {
     "data": {
      "text/html": [
       "<div>\n",
       "<style scoped>\n",
       "    .dataframe tbody tr th:only-of-type {\n",
       "        vertical-align: middle;\n",
       "    }\n",
       "\n",
       "    .dataframe tbody tr th {\n",
       "        vertical-align: top;\n",
       "    }\n",
       "\n",
       "    .dataframe thead th {\n",
       "        text-align: right;\n",
       "    }\n",
       "</style>\n",
       "<table border=\"1\" class=\"dataframe\">\n",
       "  <thead>\n",
       "    <tr style=\"text-align: right;\">\n",
       "      <th></th>\n",
       "      <th>date</th>\n",
       "      <th>close</th>\n",
       "    </tr>\n",
       "  </thead>\n",
       "  <tbody>\n",
       "    <tr>\n",
       "      <th>0</th>\n",
       "      <td>2017-02-10 00:00:00+00:00</td>\n",
       "      <td>827.46</td>\n",
       "    </tr>\n",
       "    <tr>\n",
       "      <th>1</th>\n",
       "      <td>2017-02-13 00:00:00+00:00</td>\n",
       "      <td>836.53</td>\n",
       "    </tr>\n",
       "    <tr>\n",
       "      <th>2</th>\n",
       "      <td>2017-02-14 00:00:00+00:00</td>\n",
       "      <td>836.39</td>\n",
       "    </tr>\n",
       "    <tr>\n",
       "      <th>3</th>\n",
       "      <td>2017-02-15 00:00:00+00:00</td>\n",
       "      <td>842.70</td>\n",
       "    </tr>\n",
       "    <tr>\n",
       "      <th>4</th>\n",
       "      <td>2017-02-16 00:00:00+00:00</td>\n",
       "      <td>844.14</td>\n",
       "    </tr>\n",
       "  </tbody>\n",
       "</table>\n",
       "</div>"
      ],
      "text/plain": [
       "                        date   close\n",
       "0  2017-02-10 00:00:00+00:00  827.46\n",
       "1  2017-02-13 00:00:00+00:00  836.53\n",
       "2  2017-02-14 00:00:00+00:00  836.39\n",
       "3  2017-02-15 00:00:00+00:00  842.70\n",
       "4  2017-02-16 00:00:00+00:00  844.14"
      ]
     },
     "execution_count": 167,
     "metadata": {},
     "output_type": "execute_result"
    }
   ],
   "source": [
    "df['date'] = pd.to_datetime(df['date']).dt.date\n",
    "df=pd.read_csv('AMZN.csv', usecols = ['date','close'])\n",
    "df.head()"
   ]
  },
  {
   "cell_type": "code",
   "execution_count": 187,
   "id": "534e84bb",
   "metadata": {},
   "outputs": [],
   "source": [
    "df1 = df.reset_index()['close']"
   ]
  },
  {
   "cell_type": "code",
   "execution_count": 188,
   "id": "8b0f8328",
   "metadata": {},
   "outputs": [
    {
     "data": {
      "text/plain": [
       "0    827.46\n",
       "1    836.53\n",
       "2    836.39\n",
       "3    842.70\n",
       "4    844.14\n",
       "Name: close, dtype: float64"
      ]
     },
     "execution_count": 188,
     "metadata": {},
     "output_type": "execute_result"
    }
   ],
   "source": [
    "df1.head()"
   ]
  },
  {
   "cell_type": "code",
   "execution_count": null,
   "id": "a5f7ae37",
   "metadata": {},
   "outputs": [],
   "source": []
  },
  {
   "cell_type": "code",
   "execution_count": 177,
   "id": "d863f55d",
   "metadata": {},
   "outputs": [
    {
     "data": {
      "text/plain": [
       "[<matplotlib.lines.Line2D at 0x26097a0be20>]"
      ]
     },
     "execution_count": 177,
     "metadata": {},
     "output_type": "execute_result"
    },
    {
     "data": {
      "image/png": "[encoded data removed]",
      "text/plain": [
       "<Figure size 432x288 with 1 Axes>"
      ]
     },
     "metadata": {
      "needs_background": "light"
     },
     "output_type": "display_data"
    }
   ],
   "source": [
    "df1.shape\n",
    "plt.plot(df1)"
   ]
  },
  {
   "cell_type": "code",
   "execution_count": 102,
   "id": "03217ed4",
   "metadata": {},
   "outputs": [],
   "source": [
    "scaler = MinMaxScaler(feature_range=(0,1))\n",
    "df1 = scaler.fit_transform(np.array(df1).reshape(-1,1))"
   ]
  },
  {
   "cell_type": "code",
   "execution_count": 103,
   "id": "97a2e845",
   "metadata": {},
   "outputs": [
    {
     "data": {
      "text/plain": [
       "(1258, 1)"
      ]
     },
     "execution_count": 103,
     "metadata": {},
     "output_type": "execute_result"
    }
   ],
   "source": [
    "df1.shape"
   ]
  },
  {
   "cell_type": "code",
   "execution_count": 104,
   "id": "8dbe18b9",
   "metadata": {},
   "outputs": [
    {
     "name": "stdout",
     "output_type": "stream",
     "text": [
      "[[0.        ]\n",
      " [0.00312333]\n",
      " [0.00307512]\n",
      " ...\n",
      " [0.80074726]\n",
      " [0.80278586]\n",
      " [0.82673944]]\n"
     ]
    }
   ],
   "source": [
    "print(df1)"
   ]
  },
  {
   "cell_type": "code",
   "execution_count": 152,
   "id": "6d37f702",
   "metadata": {},
   "outputs": [],
   "source": [
    "# Splitting data into train and test\n",
    "training_size = int(len(df1)*0.70)\n",
    "test_size = len(df1)-training_size\n",
    "train_data = df1[0:training_size,:]\n",
    "test_data = df1[training_size:len(df1),:1]"
   ]
  },
  {
   "cell_type": "code",
   "execution_count": 153,
   "id": "e8539a1a",
   "metadata": {},
   "outputs": [
    {
     "data": {
      "text/plain": [
       "880"
      ]
     },
     "execution_count": 153,
     "metadata": {},
     "output_type": "execute_result"
    }
   ],
   "source": [
    "training_size"
   ]
  },
  {
   "cell_type": "code",
   "execution_count": 107,
   "id": "621d6ea1",
   "metadata": {},
   "outputs": [],
   "source": [
    "#Converting array to matrix dataset\n",
    "def create_dataset(dataset,time_step=1):\n",
    "    dataX, dataY = [],[]\n",
    "    for i in range(len(dataset)-time_step-1):\n",
    "        temp = dataset[i:(i+time_step),0]\n",
    "        dataX.append(temp)\n",
    "        dataY.append(dataset[i+time_step,0])\n",
    "    return np.array(dataX), np.array(dataY)\n",
    "        "
   ]
  },
  {
   "cell_type": "code",
   "execution_count": 108,
   "id": "80e81796",
   "metadata": {},
   "outputs": [],
   "source": [
    "time_step = 150\n",
    "X_train,Y_train = create_dataset(train_data,time_step)\n",
    "X_test,Y_test = create_dataset(test_data,time_step)"
   ]
  },
  {
   "cell_type": "code",
   "execution_count": 110,
   "id": "66be825c",
   "metadata": {},
   "outputs": [
    {
     "name": "stdout",
     "output_type": "stream",
     "text": [
      "855\n"
     ]
    }
   ],
   "source": [
    "print(len(X_train))"
   ]
  },
  {
   "cell_type": "code",
   "execution_count": 111,
   "id": "d30ba78c",
   "metadata": {},
   "outputs": [],
   "source": [
    "X_train = X_train.reshape(X_train.shape[0],X_train.shape[1],1)\n",
    "X_test = X_test.reshape(X_test.shape[0],X_test.shape[1],1)"
   ]
  },
  {
   "cell_type": "code",
   "execution_count": 112,
   "id": "d331c1e3",
   "metadata": {},
   "outputs": [],
   "source": [
    "from tensorflow.keras.models import Sequential\n",
    "from tensorflow.keras.layers import Dense\n",
    "from tensorflow.keras.layers import LSTM"
   ]
  },
  {
   "cell_type": "code",
   "execution_count": 113,
   "id": "180aca86",
   "metadata": {},
   "outputs": [],
   "source": [
    "model = Sequential()\n",
    "model.add(LSTM(50,return_sequences=True,input_shape=(150,1)))\n",
    "model.add(LSTM(50,return_sequences=True))\n",
    "model.add(LSTM(50))\n",
    "model.add(Dense(1))\n",
    "model.compile(loss='mean_squared_error',optimizer='adam')"
   ]
  },
  {
   "cell_type": "code",
   "execution_count": 114,
   "id": "64d23779",
   "metadata": {},
   "outputs": [
    {
     "name": "stdout",
     "output_type": "stream",
     "text": [
      "Model: \"sequential_4\"\n",
      "_________________________________________________________________\n",
      " Layer (type)                Output Shape              Param #   \n",
      "=================================================================\n",
      " lstm_12 (LSTM)              (None, 150, 50)           10400     \n",
      "                                                                 \n",
      " lstm_13 (LSTM)              (None, 150, 50)           20200     \n",
      "                                                                 \n",
      " lstm_14 (LSTM)              (None, 50)                20200     \n",
      "                                                                 \n",
      " dense_4 (Dense)             (None, 1)                 51        \n",
      "                                                                 \n",
      "=================================================================\n",
      "Total params: 50,851\n",
      "Trainable params: 50,851\n",
      "Non-trainable params: 0\n",
      "_________________________________________________________________\n"
     ]
    }
   ],
   "source": [
    "model.summary()"
   ]
  },
  {
   "cell_type": "code",
   "execution_count": 144,
   "id": "066727ae",
   "metadata": {},
   "outputs": [
    {
     "name": "stdout",
     "output_type": "stream",
     "text": [
      "Epoch 1/150\n",
      "14/14 [==============================] - 2s 124ms/step - loss: 3.3255e-04 - val_loss: 0.0020\n",
      "Epoch 2/150\n",
      "14/14 [==============================] - 2s 126ms/step - loss: 3.2591e-04 - val_loss: 0.0010\n",
      "Epoch 3/150\n",
      "14/14 [==============================] - 2s 119ms/step - loss: 2.7342e-04 - val_loss: 8.3435e-04\n",
      "Epoch 4/150\n",
      "14/14 [==============================] - 2s 119ms/step - loss: 2.5128e-04 - val_loss: 7.5495e-04\n",
      "Epoch 5/150\n",
      "14/14 [==============================] - 2s 123ms/step - loss: 2.6348e-04 - val_loss: 9.9526e-04\n",
      "Epoch 6/150\n",
      "14/14 [==============================] - 2s 142ms/step - loss: 2.7983e-04 - val_loss: 8.5660e-04\n",
      "Epoch 7/150\n",
      "14/14 [==============================] - 2s 130ms/step - loss: 2.6651e-04 - val_loss: 0.0011\n",
      "Epoch 8/150\n",
      "14/14 [==============================] - 2s 139ms/step - loss: 2.8458e-04 - val_loss: 0.0015\n",
      "Epoch 9/150\n",
      "14/14 [==============================] - 2s 145ms/step - loss: 2.7787e-04 - val_loss: 6.7900e-04\n",
      "Epoch 10/150\n",
      "14/14 [==============================] - 2s 123ms/step - loss: 2.4969e-04 - val_loss: 6.3497e-04\n",
      "Epoch 11/150\n",
      "14/14 [==============================] - 2s 120ms/step - loss: 2.7291e-04 - val_loss: 8.4473e-04\n",
      "Epoch 12/150\n",
      "14/14 [==============================] - 2s 120ms/step - loss: 2.9143e-04 - val_loss: 8.2440e-04\n",
      "Epoch 13/150\n",
      "14/14 [==============================] - 2s 139ms/step - loss: 2.6936e-04 - val_loss: 8.1794e-04\n",
      "Epoch 14/150\n",
      "14/14 [==============================] - 2s 146ms/step - loss: 2.5566e-04 - val_loss: 7.0256e-04\n",
      "Epoch 15/150\n",
      "14/14 [==============================] - 2s 128ms/step - loss: 2.6076e-04 - val_loss: 6.7834e-04\n",
      "Epoch 16/150\n",
      "14/14 [==============================] - 2s 124ms/step - loss: 2.8638e-04 - val_loss: 9.0305e-04\n",
      "Epoch 17/150\n",
      "14/14 [==============================] - 2s 139ms/step - loss: 3.0825e-04 - val_loss: 7.2291e-04\n",
      "Epoch 18/150\n",
      "14/14 [==============================] - 2s 158ms/step - loss: 2.9501e-04 - val_loss: 8.6922e-04\n",
      "Epoch 19/150\n",
      "14/14 [==============================] - 2s 124ms/step - loss: 2.7983e-04 - val_loss: 7.8037e-04\n",
      "Epoch 20/150\n",
      "14/14 [==============================] - 2s 128ms/step - loss: 3.2086e-04 - val_loss: 0.0012\n",
      "Epoch 21/150\n",
      "14/14 [==============================] - 2s 119ms/step - loss: 2.5930e-04 - val_loss: 0.0010\n",
      "Epoch 22/150\n",
      "14/14 [==============================] - 2s 119ms/step - loss: 2.7014e-04 - val_loss: 8.4547e-04\n",
      "Epoch 23/150\n",
      "14/14 [==============================] - 2s 119ms/step - loss: 2.4492e-04 - val_loss: 8.7826e-04\n",
      "Epoch 24/150\n",
      "14/14 [==============================] - 2s 118ms/step - loss: 2.4370e-04 - val_loss: 8.7652e-04\n",
      "Epoch 25/150\n",
      "14/14 [==============================] - 2s 121ms/step - loss: 2.6987e-04 - val_loss: 8.9191e-04\n",
      "Epoch 26/150\n",
      "14/14 [==============================] - 2s 125ms/step - loss: 3.2709e-04 - val_loss: 9.2907e-04\n",
      "Epoch 27/150\n",
      "14/14 [==============================] - 2s 125ms/step - loss: 2.5102e-04 - val_loss: 6.5913e-04\n",
      "Epoch 28/150\n",
      "14/14 [==============================] - 2s 124ms/step - loss: 2.8149e-04 - val_loss: 7.9936e-04\n",
      "Epoch 29/150\n",
      "14/14 [==============================] - 2s 117ms/step - loss: 2.9939e-04 - val_loss: 8.8901e-04\n",
      "Epoch 30/150\n",
      "14/14 [==============================] - 2s 121ms/step - loss: 2.4940e-04 - val_loss: 6.8734e-04\n",
      "Epoch 31/150\n",
      "14/14 [==============================] - 2s 138ms/step - loss: 2.6023e-04 - val_loss: 7.9828e-04\n",
      "Epoch 32/150\n",
      "14/14 [==============================] - 2s 135ms/step - loss: 2.4946e-04 - val_loss: 7.6642e-04\n",
      "Epoch 33/150\n",
      "14/14 [==============================] - 2s 121ms/step - loss: 2.4264e-04 - val_loss: 7.0116e-04\n",
      "Epoch 34/150\n",
      "14/14 [==============================] - 2s 121ms/step - loss: 2.6033e-04 - val_loss: 6.4112e-04\n",
      "Epoch 35/150\n",
      "14/14 [==============================] - 2s 118ms/step - loss: 2.6418e-04 - val_loss: 6.5117e-04\n",
      "Epoch 36/150\n",
      "14/14 [==============================] - 2s 117ms/step - loss: 2.6938e-04 - val_loss: 9.0472e-04\n",
      "Epoch 37/150\n",
      "14/14 [==============================] - 2s 119ms/step - loss: 2.4651e-04 - val_loss: 9.5913e-04\n",
      "Epoch 38/150\n",
      "14/14 [==============================] - 2s 118ms/step - loss: 2.7382e-04 - val_loss: 6.8208e-04\n",
      "Epoch 39/150\n",
      "14/14 [==============================] - 2s 120ms/step - loss: 2.6655e-04 - val_loss: 0.0013\n",
      "Epoch 40/150\n",
      "14/14 [==============================] - 2s 118ms/step - loss: 2.4854e-04 - val_loss: 9.7473e-04\n",
      "Epoch 41/150\n",
      "14/14 [==============================] - 2s 118ms/step - loss: 2.2983e-04 - val_loss: 6.6117e-04\n",
      "Epoch 42/150\n",
      "14/14 [==============================] - 2s 118ms/step - loss: 2.8502e-04 - val_loss: 0.0020\n",
      "Epoch 43/150\n",
      "14/14 [==============================] - 2s 118ms/step - loss: 3.8981e-04 - val_loss: 6.8011e-04\n",
      "Epoch 44/150\n",
      "14/14 [==============================] - 2s 119ms/step - loss: 2.5606e-04 - val_loss: 7.5692e-04\n",
      "Epoch 45/150\n",
      "14/14 [==============================] - 2s 118ms/step - loss: 2.8191e-04 - val_loss: 8.8653e-04\n",
      "Epoch 46/150\n",
      "14/14 [==============================] - 2s 118ms/step - loss: 2.5608e-04 - val_loss: 6.9265e-04\n",
      "Epoch 47/150\n",
      "14/14 [==============================] - 2s 118ms/step - loss: 2.4832e-04 - val_loss: 0.0011\n",
      "Epoch 48/150\n",
      "14/14 [==============================] - 2s 122ms/step - loss: 3.0888e-04 - val_loss: 7.7522e-04\n",
      "Epoch 49/150\n",
      "14/14 [==============================] - 2s 118ms/step - loss: 2.8827e-04 - val_loss: 6.8446e-04\n",
      "Epoch 50/150\n",
      "14/14 [==============================] - 2s 117ms/step - loss: 3.0962e-04 - val_loss: 7.7637e-04\n",
      "Epoch 51/150\n",
      "14/14 [==============================] - 2s 117ms/step - loss: 3.4021e-04 - val_loss: 0.0014\n",
      "Epoch 52/150\n",
      "14/14 [==============================] - 2s 119ms/step - loss: 3.0320e-04 - val_loss: 0.0012\n",
      "Epoch 53/150\n",
      "14/14 [==============================] - 2s 118ms/step - loss: 2.8343e-04 - val_loss: 7.0402e-04\n",
      "Epoch 54/150\n",
      "14/14 [==============================] - 2s 118ms/step - loss: 2.7628e-04 - val_loss: 7.6593e-04\n",
      "Epoch 55/150\n",
      "14/14 [==============================] - 2s 123ms/step - loss: 2.3921e-04 - val_loss: 0.0010\n",
      "Epoch 56/150\n",
      "14/14 [==============================] - 2s 117ms/step - loss: 2.4491e-04 - val_loss: 0.0013\n",
      "Epoch 57/150\n",
      "14/14 [==============================] - 2s 119ms/step - loss: 2.6360e-04 - val_loss: 6.6657e-04\n",
      "Epoch 58/150\n",
      "14/14 [==============================] - 2s 117ms/step - loss: 2.4626e-04 - val_loss: 6.9288e-04\n",
      "Epoch 59/150\n",
      "14/14 [==============================] - 2s 118ms/step - loss: 2.3920e-04 - val_loss: 8.9304e-04\n",
      "Epoch 60/150\n",
      "14/14 [==============================] - 2s 117ms/step - loss: 2.3330e-04 - val_loss: 6.5195e-04\n",
      "Epoch 61/150\n",
      "14/14 [==============================] - 2s 118ms/step - loss: 2.4357e-04 - val_loss: 7.6284e-04\n",
      "Epoch 62/150\n",
      "14/14 [==============================] - 2s 121ms/step - loss: 2.5064e-04 - val_loss: 6.5850e-04\n",
      "Epoch 63/150\n",
      "14/14 [==============================] - 2s 119ms/step - loss: 2.6217e-04 - val_loss: 6.6689e-04\n",
      "Epoch 64/150\n",
      "14/14 [==============================] - 2s 118ms/step - loss: 2.3102e-04 - val_loss: 0.0013\n",
      "Epoch 65/150\n",
      "14/14 [==============================] - 2s 118ms/step - loss: 2.4640e-04 - val_loss: 0.0012\n",
      "Epoch 66/150\n",
      "14/14 [==============================] - 2s 118ms/step - loss: 2.4349e-04 - val_loss: 8.2375e-04\n",
      "Epoch 67/150\n",
      "14/14 [==============================] - 2s 119ms/step - loss: 2.4476e-04 - val_loss: 0.0012\n",
      "Epoch 68/150\n",
      "14/14 [==============================] - 2s 117ms/step - loss: 2.8826e-04 - val_loss: 7.3601e-04\n",
      "Epoch 69/150\n",
      "14/14 [==============================] - 2s 118ms/step - loss: 2.6061e-04 - val_loss: 6.4161e-04\n",
      "Epoch 70/150\n",
      "14/14 [==============================] - 2s 130ms/step - loss: 3.0017e-04 - val_loss: 0.0011\n",
      "Epoch 71/150\n",
      "14/14 [==============================] - 2s 118ms/step - loss: 6.3021e-04 - val_loss: 0.0010\n",
      "Epoch 72/150\n",
      "14/14 [==============================] - 2s 119ms/step - loss: 3.7622e-04 - val_loss: 6.6200e-04\n",
      "Epoch 73/150\n",
      "14/14 [==============================] - 2s 117ms/step - loss: 2.6217e-04 - val_loss: 6.5348e-04\n",
      "Epoch 74/150\n",
      "14/14 [==============================] - 2s 117ms/step - loss: 2.7120e-04 - val_loss: 7.4929e-04\n",
      "Epoch 75/150\n",
      "14/14 [==============================] - 2s 122ms/step - loss: 3.1328e-04 - val_loss: 8.8172e-04\n",
      "Epoch 76/150\n",
      "14/14 [==============================] - 2s 117ms/step - loss: 2.9983e-04 - val_loss: 8.5304e-04\n",
      "Epoch 77/150\n",
      "14/14 [==============================] - 2s 116ms/step - loss: 2.4267e-04 - val_loss: 9.6575e-04\n",
      "Epoch 78/150\n",
      "14/14 [==============================] - 2s 116ms/step - loss: 3.4676e-04 - val_loss: 0.0011\n",
      "Epoch 79/150\n",
      "14/14 [==============================] - 2s 117ms/step - loss: 2.7649e-04 - val_loss: 0.0011\n",
      "Epoch 80/150\n",
      "14/14 [==============================] - 2s 117ms/step - loss: 2.9082e-04 - val_loss: 0.0017\n",
      "Epoch 81/150\n",
      "14/14 [==============================] - 2s 121ms/step - loss: 2.8472e-04 - val_loss: 9.0355e-04\n",
      "Epoch 82/150\n",
      "14/14 [==============================] - 2s 118ms/step - loss: 2.3982e-04 - val_loss: 0.0017\n",
      "Epoch 83/150\n",
      "14/14 [==============================] - 2s 117ms/step - loss: 2.5760e-04 - val_loss: 8.4468e-04\n",
      "Epoch 84/150\n",
      "14/14 [==============================] - 2s 116ms/step - loss: 2.3230e-04 - val_loss: 8.4413e-04\n",
      "Epoch 85/150\n",
      "14/14 [==============================] - 2s 118ms/step - loss: 2.3669e-04 - val_loss: 0.0012\n",
      "Epoch 86/150\n",
      "14/14 [==============================] - 2s 117ms/step - loss: 2.5477e-04 - val_loss: 6.8351e-04\n",
      "Epoch 87/150\n",
      "14/14 [==============================] - 2s 120ms/step - loss: 2.4930e-04 - val_loss: 6.7706e-04\n",
      "Epoch 88/150\n",
      "14/14 [==============================] - 2s 116ms/step - loss: 2.4905e-04 - val_loss: 0.0012\n",
      "Epoch 89/150\n",
      "14/14 [==============================] - 2s 116ms/step - loss: 2.5422e-04 - val_loss: 0.0012\n",
      "Epoch 90/150\n",
      "14/14 [==============================] - 2s 116ms/step - loss: 2.6402e-04 - val_loss: 0.0012\n",
      "Epoch 91/150\n",
      "14/14 [==============================] - 2s 117ms/step - loss: 2.6574e-04 - val_loss: 7.3399e-04\n",
      "Epoch 92/150\n",
      "14/14 [==============================] - 2s 117ms/step - loss: 3.0629e-04 - val_loss: 8.0309e-04\n",
      "Epoch 93/150\n",
      "14/14 [==============================] - 2s 151ms/step - loss: 2.3794e-04 - val_loss: 9.7885e-04\n",
      "Epoch 94/150\n",
      "14/14 [==============================] - 2s 132ms/step - loss: 2.5899e-04 - val_loss: 0.0012\n",
      "Epoch 95/150\n",
      "14/14 [==============================] - 2s 126ms/step - loss: 2.3288e-04 - val_loss: 0.0011\n",
      "Epoch 96/150\n",
      "14/14 [==============================] - 2s 121ms/step - loss: 2.7082e-04 - val_loss: 0.0014\n",
      "Epoch 97/150\n",
      "14/14 [==============================] - 2s 125ms/step - loss: 2.5151e-04 - val_loss: 9.3832e-04\n",
      "Epoch 98/150\n",
      "14/14 [==============================] - 2s 121ms/step - loss: 2.4855e-04 - val_loss: 0.0014\n",
      "Epoch 99/150\n",
      "14/14 [==============================] - 2s 123ms/step - loss: 2.5795e-04 - val_loss: 7.2617e-04\n",
      "Epoch 100/150\n",
      "14/14 [==============================] - 2s 122ms/step - loss: 2.3715e-04 - val_loss: 6.9549e-04\n",
      "Epoch 101/150\n",
      "14/14 [==============================] - 2s 122ms/step - loss: 2.4567e-04 - val_loss: 8.2645e-04\n",
      "Epoch 102/150\n",
      "14/14 [==============================] - 2s 117ms/step - loss: 2.4599e-04 - val_loss: 8.2849e-04\n",
      "Epoch 103/150\n",
      "14/14 [==============================] - 2s 121ms/step - loss: 2.5721e-04 - val_loss: 8.9881e-04\n",
      "Epoch 104/150\n",
      "14/14 [==============================] - 2s 116ms/step - loss: 2.5805e-04 - val_loss: 9.0434e-04\n",
      "Epoch 105/150\n",
      "14/14 [==============================] - 2s 116ms/step - loss: 2.7182e-04 - val_loss: 9.1687e-04\n",
      "Epoch 106/150\n",
      "14/14 [==============================] - 2s 116ms/step - loss: 2.4473e-04 - val_loss: 7.2278e-04\n",
      "Epoch 107/150\n",
      "14/14 [==============================] - 2s 120ms/step - loss: 2.3371e-04 - val_loss: 9.3004e-04\n",
      "Epoch 108/150\n",
      "14/14 [==============================] - 2s 116ms/step - loss: 2.5221e-04 - val_loss: 7.7146e-04\n",
      "Epoch 109/150\n",
      "14/14 [==============================] - 2s 120ms/step - loss: 2.4667e-04 - val_loss: 9.0683e-04\n",
      "Epoch 110/150\n",
      "14/14 [==============================] - 2s 143ms/step - loss: 2.4014e-04 - val_loss: 8.2329e-04\n",
      "Epoch 111/150\n",
      "14/14 [==============================] - 2s 121ms/step - loss: 2.6958e-04 - val_loss: 8.1038e-04\n",
      "Epoch 112/150\n",
      "14/14 [==============================] - 2s 120ms/step - loss: 2.5080e-04 - val_loss: 8.2560e-04\n",
      "Epoch 113/150\n",
      "14/14 [==============================] - 2s 120ms/step - loss: 2.3623e-04 - val_loss: 7.4255e-04\n",
      "Epoch 114/150\n",
      "14/14 [==============================] - 2s 125ms/step - loss: 2.3428e-04 - val_loss: 8.1404e-04\n",
      "Epoch 115/150\n",
      "14/14 [==============================] - 2s 137ms/step - loss: 2.4378e-04 - val_loss: 7.6541e-04\n",
      "Epoch 116/150\n",
      "14/14 [==============================] - 2s 129ms/step - loss: 2.3589e-04 - val_loss: 6.9526e-04\n",
      "Epoch 117/150\n",
      "14/14 [==============================] - 2s 123ms/step - loss: 2.5285e-04 - val_loss: 0.0015\n",
      "Epoch 118/150\n",
      "14/14 [==============================] - 2s 116ms/step - loss: 2.3947e-04 - val_loss: 0.0010\n",
      "Epoch 119/150\n",
      "14/14 [==============================] - 2s 116ms/step - loss: 2.4408e-04 - val_loss: 7.9813e-04\n",
      "Epoch 120/150\n",
      "14/14 [==============================] - 2s 128ms/step - loss: 2.4768e-04 - val_loss: 7.0729e-04\n",
      "Epoch 121/150\n",
      "14/14 [==============================] - 2s 119ms/step - loss: 2.5555e-04 - val_loss: 6.9713e-04\n",
      "Epoch 122/150\n",
      "14/14 [==============================] - 2s 127ms/step - loss: 2.5450e-04 - val_loss: 6.9564e-04\n",
      "Epoch 123/150\n",
      "14/14 [==============================] - 2s 125ms/step - loss: 2.3502e-04 - val_loss: 6.9344e-04\n",
      "Epoch 124/150\n",
      "14/14 [==============================] - 2s 122ms/step - loss: 2.4223e-04 - val_loss: 0.0016\n",
      "Epoch 125/150\n",
      "14/14 [==============================] - 2s 124ms/step - loss: 2.5696e-04 - val_loss: 8.6120e-04\n",
      "Epoch 126/150\n",
      "14/14 [==============================] - 2s 129ms/step - loss: 2.3781e-04 - val_loss: 0.0015\n",
      "Epoch 127/150\n",
      "14/14 [==============================] - 2s 128ms/step - loss: 2.3578e-04 - val_loss: 0.0015\n",
      "Epoch 128/150\n",
      "14/14 [==============================] - 2s 125ms/step - loss: 2.3940e-04 - val_loss: 0.0012\n",
      "Epoch 129/150\n",
      "14/14 [==============================] - 2s 138ms/step - loss: 2.3509e-04 - val_loss: 9.6254e-04\n",
      "Epoch 130/150\n",
      "14/14 [==============================] - 2s 117ms/step - loss: 2.2600e-04 - val_loss: 0.0014\n",
      "Epoch 131/150\n",
      "14/14 [==============================] - 2s 120ms/step - loss: 2.2576e-04 - val_loss: 7.2230e-04\n",
      "Epoch 132/150\n",
      "14/14 [==============================] - 2s 128ms/step - loss: 2.3786e-04 - val_loss: 0.0011\n",
      "Epoch 133/150\n",
      "14/14 [==============================] - 2s 126ms/step - loss: 2.3980e-04 - val_loss: 0.0012\n",
      "Epoch 134/150\n",
      "14/14 [==============================] - 2s 125ms/step - loss: 2.8618e-04 - val_loss: 0.0011\n",
      "Epoch 135/150\n",
      "14/14 [==============================] - 2s 128ms/step - loss: 2.3581e-04 - val_loss: 0.0011\n",
      "Epoch 136/150\n",
      "14/14 [==============================] - 2s 135ms/step - loss: 2.3754e-04 - val_loss: 0.0011\n",
      "Epoch 137/150\n",
      "14/14 [==============================] - 2s 137ms/step - loss: 2.5183e-04 - val_loss: 7.0929e-04\n",
      "Epoch 138/150\n",
      "14/14 [==============================] - 2s 123ms/step - loss: 2.3364e-04 - val_loss: 7.1178e-04\n",
      "Epoch 139/150\n",
      "14/14 [==============================] - 2s 143ms/step - loss: 2.9285e-04 - val_loss: 8.1446e-04\n",
      "Epoch 140/150\n",
      "14/14 [==============================] - 2s 131ms/step - loss: 2.4091e-04 - val_loss: 0.0011\n",
      "Epoch 141/150\n",
      "14/14 [==============================] - 2s 132ms/step - loss: 2.2396e-04 - val_loss: 8.6792e-04\n",
      "Epoch 142/150\n",
      "14/14 [==============================] - 2s 124ms/step - loss: 2.3574e-04 - val_loss: 0.0013\n",
      "Epoch 143/150\n",
      "14/14 [==============================] - 2s 125ms/step - loss: 2.6663e-04 - val_loss: 0.0019\n",
      "Epoch 144/150\n",
      "14/14 [==============================] - 2s 126ms/step - loss: 3.2152e-04 - val_loss: 0.0011\n",
      "Epoch 145/150\n",
      "14/14 [==============================] - 2s 117ms/step - loss: 2.8598e-04 - val_loss: 8.2755e-04\n",
      "Epoch 146/150\n",
      "14/14 [==============================] - 2s 117ms/step - loss: 2.5564e-04 - val_loss: 7.8104e-04\n",
      "Epoch 147/150\n",
      "14/14 [==============================] - 2s 118ms/step - loss: 2.5959e-04 - val_loss: 7.2694e-04\n",
      "Epoch 148/150\n",
      "14/14 [==============================] - 2s 117ms/step - loss: 2.4616e-04 - val_loss: 9.3976e-04\n",
      "Epoch 149/150\n",
      "14/14 [==============================] - 2s 123ms/step - loss: 2.5388e-04 - val_loss: 9.6005e-04\n",
      "Epoch 150/150\n",
      "14/14 [==============================] - 2s 117ms/step - loss: 2.3997e-04 - val_loss: 0.0013\n"
     ]
    },
    {
     "data": {
      "text/plain": [
       "<keras.callbacks.History at 0x26097946f70>"
      ]
     },
     "execution_count": 144,
     "metadata": {},
     "output_type": "execute_result"
    }
   ],
   "source": [
    "model.fit(X_train,Y_train,validation_data=(X_test,Y_test),epochs=150,batch_size=450,verbose=1)"
   ]
  },
  {
   "cell_type": "code",
   "execution_count": 145,
   "id": "a83c910d",
   "metadata": {},
   "outputs": [],
   "source": [
    "train_predict=model.predict(X_train)\n",
    "test_predict=model.predict(X_test)"
   ]
  },
  {
   "cell_type": "code",
   "execution_count": 146,
   "id": "635a0d84",
   "metadata": {},
   "outputs": [
    {
     "name": "stdout",
     "output_type": "stream",
     "text": [
      "Train RMSE: 0.016\n",
      "Test RMSE: 0.035\n"
     ]
    }
   ],
   "source": [
    "import math\n",
    "from statistics import mean\n",
    "from sklearn.metrics import mean_squared_error\n",
    "train_rmse = math.sqrt(mean_squared_error(Y_train,train_predict))\n",
    "test_rmse = math.sqrt(mean_squared_error(Y_test,test_predict))\n",
    "print('Train RMSE: %.3f' % train_rmse)\n",
    "print('Test RMSE: %.3f' % test_rmse)"
   ]
  },
  {
   "cell_type": "code",
   "execution_count": 147,
   "id": "1631ba01",
   "metadata": {},
   "outputs": [],
   "source": [
    "train_predict=scaler.inverse_transform(train_predict)\n",
    "test_predict=scaler.inverse_transform(test_predict)"
   ]
  },
  {
   "cell_type": "code",
   "execution_count": 148,
   "id": "c6da5a94",
   "metadata": {},
   "outputs": [
    {
     "data": {
      "image/png": "[encoded data removed]",
      "text/plain": [
       "<Figure size 432x288 with 1 Axes>"
      ]
     },
     "metadata": {
      "needs_background": "light"
     },
     "output_type": "display_data"
    }
   ],
   "source": [
    "# Plotting train data and shifting it by the timesteps\n",
    "look_back=150\n",
    "trainPredictPlot = np.empty_like(df1)\n",
    "trainPredictPlot[:, :] = np.nan\n",
    "trainPredictPlot[look_back:len(train_predict)+look_back,:] = train_predict\n",
    "\n",
    "# Plotting test data\n",
    "testPredictPlot = np.empty_like(df1)\n",
    "testPredictPlot[:, :] = np.nan\n",
    "testPredictPlot[len(train_predict)+(look_back*2)+1:len(df1)-1,:] = test_predict\n",
    "\n",
    "# Plotting original data csv\n",
    "\n",
    "plt.plot(scaler.inverse_transform(df1))\n",
    "plt.plot(trainPredictPlot)\n",
    "plt.plot(testPredictPlot)\n",
    "plt.axis([1000, 1275, 2500, 3800])\n",
    "plt.show()"
   ]
  },
  {
   "cell_type": "code",
   "execution_count": 179,
   "id": "01767b33",
   "metadata": {},
   "outputs": [
    {
     "data": {
      "text/plain": [
       "1258"
      ]
     },
     "execution_count": 179,
     "metadata": {},
     "output_type": "execute_result"
    }
   ],
   "source": [
    "len(test_data)\n",
    "len(df)"
   ]
  },
  {
   "cell_type": "code",
   "execution_count": 189,
   "id": "5e35c634",
   "metadata": {},
   "outputs": [
    {
     "name": "stdout",
     "output_type": "stream",
     "text": [
      "0       2017-02-10 00:00:00+00:00\n",
      "1       2017-02-13 00:00:00+00:00\n",
      "2       2017-02-14 00:00:00+00:00\n",
      "3       2017-02-15 00:00:00+00:00\n",
      "4       2017-02-16 00:00:00+00:00\n",
      "                  ...            \n",
      "1253    2022-02-02 00:00:00+00:00\n",
      "1254    2022-02-03 00:00:00+00:00\n",
      "1255    2022-02-04 00:00:00+00:00\n",
      "1256    2022-02-07 00:00:00+00:00\n",
      "1257    2022-02-08 00:00:00+00:00\n",
      "Name: date, Length: 1258, dtype: object\n"
     ]
    },
    {
     "data": {
      "text/plain": [
       "[<matplotlib.lines.Line2D at 0x2609e8373a0>]"
      ]
     },
     "execution_count": 189,
     "metadata": {},
     "output_type": "execute_result"
    },
    {
     "data": {
      "image/png": "[encoded data removed]",
      "text/plain": [
       "<Figure size 1080x720 with 1 Axes>"
      ]
     },
     "metadata": {
      "needs_background": "light"
     },
     "output_type": "display_data"
    }
   ],
   "source": [
    "dates = pd.read_csv('AMZN.csv', usecols = ['date'])\n",
    "dates = dates.reset_index()['date']\n",
    "print(dates)\n",
    "plt.figure(figsize=(15,10))\n",
    "plt.plot(dates[880:], label=\"Actual\")\n",
    "#plt.plot(testPredictPlot)\n"
   ]
  },
  {
   "cell_type": "code",
   "execution_count": null,
   "id": "463ef8e5",
   "metadata": {},
   "outputs": [],
   "source": []
  }
 ],
 "metadata": {
  "kernelspec": {
   "display_name": "Python 3",
   "language": "python",
   "name": "python3"
  },
  "language_info": {
   "codemirror_mode": {
    "name": "ipython",
    "version": 3
   },
   "file_extension": ".py",
   "mimetype": "text/x-python",
   "name": "python",
   "nbconvert_exporter": "python",
   "pygments_lexer": "ipython3",
   "version": "3.8.8"
  }
 },
 "nbformat": 4,
 "nbformat_minor": 5
}
